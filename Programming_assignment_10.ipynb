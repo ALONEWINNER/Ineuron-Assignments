{
 "cells": [
  {
   "cell_type": "markdown",
   "id": "93c30739",
   "metadata": {},
   "source": [
    "# Ass:10\n",
    "1. Write a Python program to find sum of elements in list?\n",
    "2. Write a Python program to Multiply all numbers in the list?\n",
    "3. Write a Python program to find smallest number in a list?\n",
    "4. Write a Python program to find largest number in a list?\n",
    "5. Write a Python program to find second largest number in a list?\n",
    "6. Write a Python program to find N largest elements from a list?\n",
    "7. Write a Python program to print even numbers in a list?\n",
    "8. Write a Python program to print odd numbers in a List?\n",
    "9. Write a Python program to Remove empty List from List?\n",
    "10. Write a Python program to Cloning or Copying a list?\n",
    "11. Write a Python program to Count occurrences of an element in a list?\n"
   ]
  },
  {
   "cell_type": "code",
   "execution_count": 2,
   "id": "1d84d9c6",
   "metadata": {},
   "outputs": [
    {
     "name": "stdout",
     "output_type": "stream",
     "text": [
      "sum = 415\n"
     ]
    }
   ],
   "source": [
    "#1 Write a Python program to find sum of elements in list?\n",
    "sum1=0\n",
    "l=[1,2,3,31,4,5,52,6,63,74,7,27,44,88,8]\n",
    "for i in l:\n",
    "    sum1+=i\n",
    "print(\"sum =\",sum1)    "
   ]
  },
  {
   "cell_type": "code",
   "execution_count": 3,
   "id": "17574a20",
   "metadata": {},
   "outputs": [
    {
     "name": "stdout",
     "output_type": "stream",
     "text": [
      "product  31677940802027520\n"
     ]
    }
   ],
   "source": [
    "#Write a Python program to Multiply all numbers in the list?\n",
    "\n",
    "prod=1\n",
    "for i in l:\n",
    "    prod*=i\n",
    "print(\"product \",prod)    "
   ]
  },
  {
   "cell_type": "code",
   "execution_count": 4,
   "id": "4d20efbb",
   "metadata": {},
   "outputs": [
    {
     "name": "stdout",
     "output_type": "stream",
     "text": [
      "1\n"
     ]
    }
   ],
   "source": [
    "#Write a Python program to find smallest number in a list?\n",
    "#method 1  O(nlogn)\n",
    "l.sort()\n",
    "print(l[0])"
   ]
  },
  {
   "cell_type": "code",
   "execution_count": 5,
   "id": "be6b4ff1",
   "metadata": {},
   "outputs": [
    {
     "name": "stdout",
     "output_type": "stream",
     "text": [
      "min -11\n"
     ]
    }
   ],
   "source": [
    "#method2(O(n))\n",
    "\n",
    "def min(l,a,e):\n",
    "    min=l[a]\n",
    "    for i in l:\n",
    "        if i<min:\n",
    "            min=i\n",
    "    return(min)\n",
    "l=[89,3,44,11,-11,1034]\n",
    "\n",
    "print(\"min\",min(l,0,len(l)))\n",
    "    \n",
    "    \n",
    "    \n"
   ]
  },
  {
   "cell_type": "code",
   "execution_count": 12,
   "id": "0e52958c",
   "metadata": {},
   "outputs": [
    {
     "name": "stdout",
     "output_type": "stream",
     "text": [
      "([22, 33, 11, 10, -10, 99], 0, 3)\n"
     ]
    }
   ],
   "source": [
    "#method 3 via recursion (divide and conquor)\n",
    "import math\n",
    "def DAC(l,i,j):\n",
    "    if(i==j):\n",
    "        min=l[i]\n",
    "        return min\n",
    "    if(i==j-1):\n",
    "        if(l[i]>l[j]):\n",
    "            min=l[j]\n",
    "        else:\n",
    "            min=l[i]\n",
    "        return min\n",
    "    else:\n",
    "        mid=math.floor((i+j)//2)\n",
    "        min1=(l,i,mid)\n",
    "        min2=(l,mid+1,j)\n",
    "        if(min1>min2):\n",
    "            minf=min2\n",
    "        else:\n",
    "            minf=min1\n",
    "        return minf    \n",
    "    \n",
    "l=[22,33,11,10,-10,99]\n",
    "min4=DAC(l,0,len(l))\n",
    "print(min4)\n",
    "            \n",
    "                  \n",
    "                  \n",
    "        "
   ]
  },
  {
   "cell_type": "code",
   "execution_count": 17,
   "id": "5b11a977",
   "metadata": {},
   "outputs": [
    {
     "data": {
      "text/plain": [
       "99"
      ]
     },
     "execution_count": 17,
     "metadata": {},
     "output_type": "execute_result"
    }
   ],
   "source": [
    "#Write a Python program to find largest number in a list?\n",
    "l=[99,22,11,23,-2]\n",
    "l.sort()\n",
    "l[len(l)-1]"
   ]
  },
  {
   "cell_type": "code",
   "execution_count": 18,
   "id": "7ee752b3",
   "metadata": {},
   "outputs": [
    {
     "data": {
      "text/plain": [
       "23"
      ]
     },
     "execution_count": 18,
     "metadata": {},
     "output_type": "execute_result"
    }
   ],
   "source": [
    "#Write a Python program to find second largest number in a list?\n",
    "l[len(l)-2]"
   ]
  },
  {
   "cell_type": "code",
   "execution_count": 19,
   "id": "fdd81005",
   "metadata": {},
   "outputs": [
    {
     "name": "stdout",
     "output_type": "stream",
     "text": [
      "enter the nth term3\n"
     ]
    },
    {
     "data": {
      "text/plain": [
       "22"
      ]
     },
     "execution_count": 19,
     "metadata": {},
     "output_type": "execute_result"
    }
   ],
   "source": [
    "#Write a Python program to find N largest elements from a list?\n",
    "n=int(input(\"enter the nth term\"))\n",
    "l[len(l)-n]"
   ]
  },
  {
   "cell_type": "code",
   "execution_count": 20,
   "id": "b8c0e4a7",
   "metadata": {},
   "outputs": [
    {
     "name": "stdout",
     "output_type": "stream",
     "text": [
      "-2\n",
      "22\n"
     ]
    }
   ],
   "source": [
    "#Write a Python program to print even numbers in a list?\n",
    "for i in l:\n",
    "    if(i%2==0):\n",
    "        print(i)"
   ]
  },
  {
   "cell_type": "code",
   "execution_count": 21,
   "id": "4be85ed2",
   "metadata": {},
   "outputs": [
    {
     "name": "stdout",
     "output_type": "stream",
     "text": [
      "11\n",
      "23\n",
      "99\n"
     ]
    }
   ],
   "source": [
    "#Write a Python program to print odd numbers in a List?\n",
    "for i in l:\n",
    "    if(i%2!=0):\n",
    "        print(i)"
   ]
  },
  {
   "cell_type": "code",
   "execution_count": 25,
   "id": "685d8a9a",
   "metadata": {},
   "outputs": [
    {
     "name": "stdout",
     "output_type": "stream",
     "text": [
      "[11, 2, 2, 344, 8, 11, [3, 4, 5]]\n"
     ]
    }
   ],
   "source": [
    "#9 Write a Python program to Remove empty List from List?\n",
    "l2=[11,2,2,344,8,11,[3,4,5],[]]\n",
    "l3=[]\n",
    "for i in l2:\n",
    "    if(i!=[]):\n",
    "        l3.append(i)\n",
    "l2=l3\n",
    "print(l2)\n",
    "        "
   ]
  },
  {
   "cell_type": "code",
   "execution_count": 26,
   "id": "e6968666",
   "metadata": {},
   "outputs": [
    {
     "name": "stdout",
     "output_type": "stream",
     "text": [
      "[11, 2, 2, 344, 8, 11, 990, 22892, 372]\n"
     ]
    }
   ],
   "source": [
    "#10 Write a Python program to Cloning or Copying a list?\n",
    "l2=[11,2,2,344,8,11,990,22892,372]\n",
    "l3=l2\n",
    "print(l3)"
   ]
  },
  {
   "cell_type": "code",
   "execution_count": 29,
   "id": "fdbf06aa",
   "metadata": {},
   "outputs": [
    {
     "name": "stdout",
     "output_type": "stream",
     "text": [
      "1 : 1\n",
      "2 : 2\n",
      "33 : 1\n",
      "4 : 6\n",
      "9 : 1\n"
     ]
    }
   ],
   "source": [
    "#11 Write a Python program to Count occurrences of an element in a list?\n",
    "l5=[1,2,2,9,33,4,4,4,4,4,4]\n",
    "l6=set(l5)\n",
    "for i in l6:\n",
    "    print(i,\":\",l5.count(i))"
   ]
  },
  {
   "cell_type": "code",
   "execution_count": null,
   "id": "7e11627b",
   "metadata": {},
   "outputs": [],
   "source": []
  }
 ],
 "metadata": {
  "kernelspec": {
   "display_name": "Python 3",
   "language": "python",
   "name": "python3"
  },
  "language_info": {
   "codemirror_mode": {
    "name": "ipython",
    "version": 3
   },
   "file_extension": ".py",
   "mimetype": "text/x-python",
   "name": "python",
   "nbconvert_exporter": "python",
   "pygments_lexer": "ipython3",
   "version": "3.9.12"
  }
 },
 "nbformat": 4,
 "nbformat_minor": 5
}
