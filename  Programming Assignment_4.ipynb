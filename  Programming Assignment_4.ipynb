{
 "cells": [
  {
   "cell_type": "markdown",
   "id": "f55a688b",
   "metadata": {},
   "source": [
    "Ass:4\n",
    "1. Write a Python Program to Find the Factorial of a Number?\n",
    "2. Write a Python Program to Display the multiplication Table?\n",
    "3. Write a Python Program to Print the Fibonacci sequence?\n",
    "4. Write a Python Program to Check Armstrong Number?\n",
    "5. Write a Python Program to Find Armstrong Number in an Interval?\n",
    "6. Write a Python Program to Find the Sum of Natural Numbers?"
   ]
  },
  {
   "cell_type": "code",
   "execution_count": 5,
   "id": "bea12905",
   "metadata": {},
   "outputs": [
    {
     "name": "stdout",
     "output_type": "stream",
     "text": [
      "enter the no 120\n",
      "factorial of 120 is 6689502913449127057588118054090372586752746333138029810295671352301633557244962989366874165271984981308157637893214090552534408589408121859898481114389650005964960521256960000000000000000000000000000\n"
     ]
    }
   ],
   "source": [
    "#sol 1:\n",
    "def fact(n):\n",
    "    fact=1\n",
    "    for i in range(1,n+1):\n",
    "        fact*=i\n",
    "    return fact \n",
    "n=(int((input(\"enter the no \"))))\n",
    "print(\"factorial of\",n,\"is\",fact(n))\n"
   ]
  },
  {
   "cell_type": "code",
   "execution_count": 13,
   "id": "ae9af214",
   "metadata": {},
   "outputs": [
    {
     "name": "stdout",
     "output_type": "stream",
     "text": [
      "2   4   6   8   10   12   14   16   18   20   \n",
      "\n",
      "\n",
      "3   6   9   12   15   18   21   24   27   30   \n",
      "\n",
      "\n",
      "4   8   12   16   20   24   28   32   36   40   \n",
      "\n",
      "\n",
      "5   10   15   20   25   30   35   40   45   50   \n",
      "\n",
      "\n",
      "6   12   18   24   30   36   42   48   54   60   \n",
      "\n",
      "\n",
      "7   14   21   28   35   42   49   56   63   70   \n",
      "\n",
      "\n",
      "8   16   24   32   40   48   56   64   72   80   \n",
      "\n",
      "\n",
      "9   18   27   36   45   54   63   72   81   90   \n",
      "\n",
      "\n",
      "10   20   30   40   50   60   70   80   90   100   \n",
      "\n",
      "\n",
      "11   22   33   44   55   66   77   88   99   110   \n",
      "\n",
      "\n",
      "12   24   36   48   60   72   84   96   108   120   \n",
      "\n",
      "\n",
      "13   26   39   52   65   78   91   104   117   130   \n",
      "\n",
      "\n",
      "14   28   42   56   70   84   98   112   126   140   \n",
      "\n",
      "\n",
      "15   30   45   60   75   90   105   120   135   150   \n",
      "\n",
      "\n",
      "16   32   48   64   80   96   112   128   144   160   \n",
      "\n",
      "\n",
      "17   34   51   68   85   102   119   136   153   170   \n",
      "\n",
      "\n",
      "18   36   54   72   90   108   126   144   162   180   \n",
      "\n",
      "\n",
      "19   38   57   76   95   114   133   152   171   190   \n",
      "\n",
      "\n",
      "20   40   60   80   100   120   140   160   180   200   \n",
      "\n",
      "\n"
     ]
    }
   ],
   "source": [
    "#Write a Python Program to Display the multiplication Table(2,20)?\n",
    "for i in range(2,21):\n",
    "    for j in range(1,11):\n",
    "        print(i*j, end=\"   \")\n",
    "    print(\"\\n\\n\")    \n"
   ]
  },
  {
   "cell_type": "code",
   "execution_count": 37,
   "id": "72649793",
   "metadata": {},
   "outputs": [
    {
     "name": "stdout",
     "output_type": "stream",
     "text": [
      "enter the no 9\n",
      "34\n"
     ]
    }
   ],
   "source": [
    "#Write a Python Program to Print the Fibonacci sequence?\n",
    "def fabonacii(n):\n",
    "    if n==1 or n==0:\n",
    "        return n\n",
    "    else:\n",
    "        return(fabonacii(n-1)+fabonacii(n-2))\n",
    "    \n",
    "n=(int((input(\"enter the no \"))))\n",
    "print(fabonacii(n))\n",
    "    "
   ]
  },
  {
   "cell_type": "markdown",
   "id": "71b6a219",
   "metadata": {},
   "source": [
    "# An n-digit number that is the sum of the nth powers of its digits is called an n-narcissistic number. It is also sometimes known as an Armstrong number, perfect digital invariant (Madachy 1979), or plus perfect number. "
   ]
  },
  {
   "cell_type": "code",
   "execution_count": 53,
   "id": "1bd2e4fc",
   "metadata": {},
   "outputs": [
    {
     "name": "stdout",
     "output_type": "stream",
     "text": [
      "enter the no 1634\n",
      "armstrong no\n"
     ]
    }
   ],
   "source": [
    "#Write a Python Program to Check Armstrong Number?\n",
    "def arm(n1):\n",
    "    n=n1\n",
    "    t=0\n",
    "    order = len(str(n))\n",
    "    while(n>0):\n",
    "        rem=n%10\n",
    "        t+=rem**order\n",
    "        n=n//10\n",
    "    if n1==t:\n",
    "        return 1\n",
    "    else:\n",
    "        return -1\n",
    "    \n",
    "n=(int((input(\"enter the no \"))))\n",
    "if(arm(n)==1):\n",
    "    print(\"armstrong no\")\n",
    "else:\n",
    "    print(\"not armstrong no\")\n"
   ]
  },
  {
   "cell_type": "code",
   "execution_count": 56,
   "id": "4bd392d9",
   "metadata": {},
   "outputs": [
    {
     "name": "stdout",
     "output_type": "stream",
     "text": [
      "enter the start point1\n",
      "enter the last point115132219018763992565095597973971522401\n",
      "1 is armstrong no\n",
      "2 is armstrong no\n",
      "3 is armstrong no\n",
      "4 is armstrong no\n",
      "5 is armstrong no\n",
      "6 is armstrong no\n",
      "7 is armstrong no\n",
      "8 is armstrong no\n",
      "9 is armstrong no\n",
      "153 is armstrong no\n",
      "370 is armstrong no\n",
      "371 is armstrong no\n",
      "407 is armstrong no\n",
      "1634 is armstrong no\n",
      "8208 is armstrong no\n",
      "9474 is armstrong no\n",
      "54748 is armstrong no\n",
      "92727 is armstrong no\n",
      "93084 is armstrong no\n",
      "548834 is armstrong no\n",
      "1741725 is armstrong no\n",
      "4210818 is armstrong no\n",
      "9800817 is armstrong no\n",
      "9926315 is armstrong no\n",
      "24678050 is armstrong no\n",
      "24678051 is armstrong no\n"
     ]
    },
    {
     "ename": "KeyboardInterrupt",
     "evalue": "",
     "output_type": "error",
     "traceback": [
      "\u001b[1;31m---------------------------------------------------------------------------\u001b[0m",
      "\u001b[1;31mKeyboardInterrupt\u001b[0m                         Traceback (most recent call last)",
      "Input \u001b[1;32mIn [56]\u001b[0m, in \u001b[0;36m<cell line: 19>\u001b[1;34m()\u001b[0m\n\u001b[0;32m     18\u001b[0m last_index\u001b[38;5;241m=\u001b[39m(\u001b[38;5;28mint\u001b[39m((\u001b[38;5;28minput\u001b[39m(\u001b[38;5;124m\"\u001b[39m\u001b[38;5;124menter the last point\u001b[39m\u001b[38;5;124m\"\u001b[39m))))\n\u001b[0;32m     19\u001b[0m \u001b[38;5;28;01mfor\u001b[39;00m k \u001b[38;5;129;01min\u001b[39;00m \u001b[38;5;28mrange\u001b[39m(first_index,last_index\u001b[38;5;241m+\u001b[39m\u001b[38;5;241m1\u001b[39m):\n\u001b[1;32m---> 20\u001b[0m     \u001b[38;5;28;01mif\u001b[39;00m(\u001b[43marm\u001b[49m\u001b[43m(\u001b[49m\u001b[43mk\u001b[49m\u001b[43m)\u001b[49m\u001b[38;5;241m==\u001b[39m\u001b[38;5;241m1\u001b[39m):\n\u001b[0;32m     21\u001b[0m         \u001b[38;5;28mprint\u001b[39m(k,\u001b[38;5;124m\"\u001b[39m\u001b[38;5;124mis armstrong no\u001b[39m\u001b[38;5;124m\"\u001b[39m)\n",
      "Input \u001b[1;32mIn [56]\u001b[0m, in \u001b[0;36marm\u001b[1;34m(n1)\u001b[0m\n\u001b[0;32m      7\u001b[0m \u001b[38;5;28;01mwhile\u001b[39;00m(n\u001b[38;5;241m>\u001b[39m\u001b[38;5;241m0\u001b[39m):\n\u001b[0;32m      8\u001b[0m     rem\u001b[38;5;241m=\u001b[39mn\u001b[38;5;241m%\u001b[39m\u001b[38;5;241m10\u001b[39m\n\u001b[1;32m----> 9\u001b[0m     t\u001b[38;5;241m+\u001b[39m\u001b[38;5;241m=\u001b[39mrem\u001b[38;5;241m*\u001b[39m\u001b[38;5;241m*\u001b[39morder\n\u001b[0;32m     10\u001b[0m     n\u001b[38;5;241m=\u001b[39mn\u001b[38;5;241m/\u001b[39m\u001b[38;5;241m/\u001b[39m\u001b[38;5;241m10\u001b[39m\n\u001b[0;32m     11\u001b[0m \u001b[38;5;28;01mif\u001b[39;00m n1\u001b[38;5;241m==\u001b[39mt:\n",
      "\u001b[1;31mKeyboardInterrupt\u001b[0m: "
     ]
    }
   ],
   "source": [
    "#Write a Python Program to Find Armstrong Number in an Interval?\n",
    "def arm(n1):\n",
    "    n=n1\n",
    "    t=0\n",
    "    rem=0\n",
    "    order = len(str(n))\n",
    "    while(n>0):\n",
    "        rem=n%10\n",
    "        t+=rem**order\n",
    "        n=n//10\n",
    "    if n1==t:\n",
    "        return 1\n",
    "    else:\n",
    "        return -1\n",
    "\n",
    "    \n",
    "first_index =(int((input(\"enter the start point\"))))\n",
    "last_index=(int((input(\"enter the last point\"))))\n",
    "for k in range(first_index,last_index+1):\n",
    "    if(arm(k)==1):\n",
    "        print(k,\"is armstrong no\")\n",
    "    "
   ]
  },
  {
   "cell_type": "markdown",
   "id": "73b08a52",
   "metadata": {},
   "source": [
    "# for more info go through the given link to know armstrong no\n",
    "https://mathworld.wolfram.com/NarcissisticNumber.html"
   ]
  },
  {
   "cell_type": "code",
   "execution_count": 57,
   "id": "acf4933e",
   "metadata": {},
   "outputs": [
    {
     "name": "stdout",
     "output_type": "stream",
     "text": [
      "enter the last no10\n",
      "sum of  10 natural numbers is 55.0\n"
     ]
    }
   ],
   "source": [
    "#Write a Python Program to Find the Sum of Natural Numbers?\n",
    "\n",
    "n =(int((input(\"enter the last no\"))))\n",
    "print(\"sum of \",n,\"natural numbers is\",n*(n+1)/2)"
   ]
  },
  {
   "cell_type": "code",
   "execution_count": 61,
   "id": "36a05a28",
   "metadata": {},
   "outputs": [
    {
     "name": "stdout",
     "output_type": "stream",
     "text": [
      "enter the last no10\n",
      "sum of  10 natural numbers is 55\n"
     ]
    }
   ],
   "source": [
    "#or\n",
    "n =(int((input(\"enter the last no\"))))\n",
    "sum=0\n",
    "for i  in range(1,n+1):\n",
    "    sum+=i\n",
    "\n",
    "print(\"sum of \",n,\"natural numbers is\",sum)"
   ]
  },
  {
   "cell_type": "code",
   "execution_count": null,
   "id": "154efa37",
   "metadata": {},
   "outputs": [],
   "source": []
  }
 ],
 "metadata": {
  "kernelspec": {
   "display_name": "Python 3",
   "language": "python",
   "name": "python3"
  },
  "language_info": {
   "codemirror_mode": {
    "name": "ipython",
    "version": 3
   },
   "file_extension": ".py",
   "mimetype": "text/x-python",
   "name": "python",
   "nbconvert_exporter": "python",
   "pygments_lexer": "ipython3",
   "version": "3.9.12"
  }
 },
 "nbformat": 4,
 "nbformat_minor": 5
}
