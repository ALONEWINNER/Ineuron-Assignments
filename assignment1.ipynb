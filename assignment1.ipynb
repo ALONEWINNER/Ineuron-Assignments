{
 "cells": [
  {
   "cell_type": "markdown",
   "id": "ee9cb46d",
   "metadata": {},
   "source": [
    "# Assignment 1"
   ]
  },
  {
   "cell_type": "markdown",
   "id": "04d72af9",
   "metadata": {},
   "source": [
    "1. In the below elements which of them are values or an expression? eg:- values can be \n",
    "integer or string and expressions will be mathematical operators.\n",
    "* \n",
    "'hello'\n",
    "-87.8\n",
    "- / \n",
    "+\n",
    "6 # "
   ]
  },
  {
   "cell_type": "markdown",
   "id": "f8cf754e",
   "metadata": {},
   "source": [
    "Ans: value are (string or interger)='hello',87.8\n",
    "Expression (mathmatical operator)=/, 6#"
   ]
  },
  {
   "cell_type": "markdown",
   "id": "8af42bab",
   "metadata": {},
   "source": [
    "2. What is the difference between string and variable?"
   ]
  },
  {
   "cell_type": "markdown",
   "id": "adb5c6af",
   "metadata": {},
   "source": [
    "  String: String is a group  of characters.Anything which is written inside  \" \", or '' can be called as String.\n",
    "    Variable:variable are those which are used to store data on memory,manipulate them .It is just like a container.Variable names may contain letters, digits (0-9) or the underscore character _ .\n",
    "    Variable names must begin with a letter from A-Z or the underscore _ character.\n",
    "    Ex: pop=\"Student\"  #pop is a variable"
   ]
  },
  {
   "cell_type": "markdown",
   "id": "e4854509",
   "metadata": {},
   "source": [
    "3. Describe three different data types."
   ]
  },
  {
   "cell_type": "markdown",
   "id": "0d7fe797",
   "metadata": {},
   "source": [
    "Ans: These are the standard  data type of Python:\n",
    "\n",
    "Numeric\n",
    ",Sequence Type(string,tuple,List)\n",
    ",Boolean\n",
    ",Set\n",
    ",Dictionary"
   ]
  },
  {
   "cell_type": "markdown",
   "id": "701c874b",
   "metadata": {},
   "source": [
    "4. What is an expression made up of? What do all expressions do?"
   ]
  },
  {
   "cell_type": "markdown",
   "id": "a062673f",
   "metadata": {},
   "source": [
    "Ans:Expression is a combination of operators and operands.It is used to find out  a value , or it os representation of value."
   ]
  },
  {
   "cell_type": "markdown",
   "id": "c48e3fc6",
   "metadata": {},
   "source": [
    "5. This assignment statements, like spam = 10. What is the difference between an \n",
    "expression and a statement"
   ]
  },
  {
   "cell_type": "markdown",
   "id": "ec20bede",
   "metadata": {},
   "source": [
    "Ans:   An Expression always evaluates to a value.an “expression” is a combination of values and functions that are combined and return a new value as result.\n",
    "On the other hand, a “statement” which is just a standalone unit of execution and doesn't return anything.\n",
    " A statement does something, like creating a variable or displaying a value, it only does whatever the statement says"
   ]
  },
  {
   "cell_type": "markdown",
   "id": "ee21251e",
   "metadata": {},
   "source": [
    "6. After running the following code, what does the variable bacon contain?\n",
    "bacon = 22\n",
    "bacon + 1"
   ]
  },
  {
   "cell_type": "code",
   "execution_count": 3,
   "id": "701df7b0",
   "metadata": {},
   "outputs": [
    {
     "data": {
      "text/plain": [
       "23"
      ]
     },
     "execution_count": 3,
     "metadata": {},
     "output_type": "execute_result"
    }
   ],
   "source": [
    "bacon = 22 \n",
    "bacon + 1"
   ]
  },
  {
   "cell_type": "markdown",
   "id": "ce14a874",
   "metadata": {},
   "source": [
    "7. What should the values of the following two terms be?\n",
    "'spam' + 'spamspam'\n",
    "'spam' * 3"
   ]
  },
  {
   "cell_type": "code",
   "execution_count": 4,
   "id": "6e9600e1",
   "metadata": {},
   "outputs": [
    {
     "data": {
      "text/plain": [
       "'spamspamspam'"
      ]
     },
     "execution_count": 4,
     "metadata": {},
     "output_type": "execute_result"
    }
   ],
   "source": [
    "'spam' + 'spamspam'\n",
    "'spam' * 3"
   ]
  },
  {
   "cell_type": "markdown",
   "id": "73a4c596",
   "metadata": {},
   "source": [
    "8. Why is eggs a valid variable name while 100 is invalid"
   ]
  },
  {
   "cell_type": "raw",
   "id": "4d69fc36",
   "metadata": {},
   "source": [
    "Variable names may contain letters, digits (0-9) or the underscore character _ . \n",
    "Variable names must begin with a letter from A-Z or a-z or\n",
    "the underscore _ character. \n",
    "Ex: eggs=\"Student\" #eggs is a variable\n",
    "while 100=\"cghghg\" # not a var"
   ]
  },
  {
   "cell_type": "code",
   "execution_count": 5,
   "id": "0d5fb67f",
   "metadata": {},
   "outputs": [],
   "source": [
    "eggs=\"Student\" #eggs is a variable"
   ]
  },
  {
   "cell_type": "code",
   "execution_count": 6,
   "id": "42e3eaba",
   "metadata": {},
   "outputs": [
    {
     "data": {
      "text/plain": [
       "'Student'"
      ]
     },
     "execution_count": 6,
     "metadata": {},
     "output_type": "execute_result"
    }
   ],
   "source": [
    "eggs"
   ]
  },
  {
   "cell_type": "code",
   "execution_count": 7,
   "id": "59fa5329",
   "metadata": {},
   "outputs": [
    {
     "ename": "SyntaxError",
     "evalue": "cannot assign to literal (3265380031.py, line 1)",
     "output_type": "error",
     "traceback": [
      "\u001b[1;36m  Input \u001b[1;32mIn [7]\u001b[1;36m\u001b[0m\n\u001b[1;33m    100=\"ccgcghg\"\u001b[0m\n\u001b[1;37m    ^\u001b[0m\n\u001b[1;31mSyntaxError\u001b[0m\u001b[1;31m:\u001b[0m cannot assign to literal\n"
     ]
    }
   ],
   "source": [
    "100=\"ccgcghg\""
   ]
  },
  {
   "cell_type": "markdown",
   "id": "be470f90",
   "metadata": {},
   "source": [
    "9. What three functions can be used to get the integer, floating-point number, or string \n",
    "version of a value?"
   ]
  },
  {
   "cell_type": "markdown",
   "id": "d209dbf6",
   "metadata": {},
   "source": [
    "Ans:The int() , float() , and str( ) functions will evaluate to the integer, floating-point number, and string ."
   ]
  },
  {
   "cell_type": "markdown",
   "id": "25e10500",
   "metadata": {},
   "source": [
    "10. Why does this expression cause an error? How can you fix it?\n",
    "'I have eaten ' + 99 + ' burritos"
   ]
  },
  {
   "cell_type": "code",
   "execution_count": 10,
   "id": "5e08f7d6",
   "metadata": {},
   "outputs": [
    {
     "ename": "TypeError",
     "evalue": "can only concatenate str (not \"int\") to str",
     "output_type": "error",
     "traceback": [
      "\u001b[1;31m---------------------------------------------------------------------------\u001b[0m",
      "\u001b[1;31mTypeError\u001b[0m                                 Traceback (most recent call last)",
      "Input \u001b[1;32mIn [10]\u001b[0m, in \u001b[0;36m<cell line: 1>\u001b[1;34m()\u001b[0m\n\u001b[1;32m----> 1\u001b[0m t\u001b[38;5;241m=\u001b[39m \u001b[38;5;124;43m'\u001b[39;49m\u001b[38;5;124;43mI have eaten \u001b[39;49m\u001b[38;5;124;43m'\u001b[39;49m\u001b[43m \u001b[49m\u001b[38;5;241;43m+\u001b[39;49m\u001b[43m \u001b[49m\u001b[38;5;241;43m99\u001b[39;49m \u001b[38;5;241m+\u001b[39m \u001b[38;5;124m'\u001b[39m\u001b[38;5;124m burritos.\u001b[39m\u001b[38;5;124m'\u001b[39m\n",
      "\u001b[1;31mTypeError\u001b[0m: can only concatenate str (not \"int\") to str"
     ]
    }
   ],
   "source": [
    "t= 'I have eaten ' + 99 + ' burritos.'"
   ]
  },
  {
   "cell_type": "markdown",
   "id": "688be040",
   "metadata": {},
   "source": [
    "Ans:It is giving error \" can only concatenate str (not \"int\") to str\n",
    "\",which meanswe are adding sting and a integer.to resolve this make integer as string(typecast).\n"
   ]
  },
  {
   "cell_type": "code",
   "execution_count": 12,
   "id": "fbdf9ff7",
   "metadata": {},
   "outputs": [],
   "source": [
    "t= 'I have eaten ' + str(99) + 'burritos.'"
   ]
  },
  {
   "cell_type": "code",
   "execution_count": 13,
   "id": "446573b8",
   "metadata": {},
   "outputs": [
    {
     "data": {
      "text/plain": [
       "'I have eaten 99burritos.'"
      ]
     },
     "execution_count": 13,
     "metadata": {},
     "output_type": "execute_result"
    }
   ],
   "source": [
    "t"
   ]
  },
  {
   "cell_type": "code",
   "execution_count": null,
   "id": "92dceebc",
   "metadata": {},
   "outputs": [],
   "source": []
  }
 ],
 "metadata": {
  "kernelspec": {
   "display_name": "Python 3",
   "language": "python",
   "name": "python3"
  },
  "language_info": {
   "codemirror_mode": {
    "name": "ipython",
    "version": 3
   },
   "file_extension": ".py",
   "mimetype": "text/x-python",
   "name": "python",
   "nbconvert_exporter": "python",
   "pygments_lexer": "ipython3",
   "version": "3.9.12"
  }
 },
 "nbformat": 4,
 "nbformat_minor": 5
}
