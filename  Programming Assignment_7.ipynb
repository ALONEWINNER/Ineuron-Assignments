{
 "cells": [
  {
   "cell_type": "markdown",
   "id": "bc1859d1",
   "metadata": {},
   "source": [
    "# \n",
    "Ass:7\n",
    "1. Write a Python Program to find sum of array?\n",
    "2. Write a Python Program to find largest element in an array?\n",
    "3. Write a Python Program for array rotation?\n",
    "4. Write a Python Program to Split the array and add the first part to the end?\n",
    "5. Write a Python Program to check if given array is Monotonic?\n",
    "\n"
   ]
  },
  {
   "cell_type": "code",
   "execution_count": 4,
   "id": "aa431012",
   "metadata": {},
   "outputs": [
    {
     "name": "stdout",
     "output_type": "stream",
     "text": [
      "enter the no of elements4\n",
      "1\n",
      "2\n",
      "3\n",
      "4\n",
      "10\n"
     ]
    }
   ],
   "source": [
    "#1.Write a Python Program to find sum of array?\n",
    "import numpy as np\n",
    "l=[]\n",
    "n=int(input(\"enter the no of elements\"))\n",
    "for i in range(n):\n",
    "    a=int(input())\n",
    "    l.append(a)\n",
    "k=np.array(l)\n",
    "sum=0\n",
    "for j in range(len(k)):\n",
    "    sum+=k[j]\n",
    "print(sum)    \n",
    "    \n",
    "    \n"
   ]
  },
  {
   "cell_type": "code",
   "execution_count": 6,
   "id": "9be75671",
   "metadata": {},
   "outputs": [
    {
     "name": "stdout",
     "output_type": "stream",
     "text": [
      "enter the no of elements5\n",
      "12\n",
      "34\n",
      "-9\n",
      "0\n",
      "45\n",
      "max 45\n"
     ]
    }
   ],
   "source": [
    "#2.Write a Python Program to find largest element in an array?\n",
    "import numpy as np\n",
    "l=[]\n",
    "n=int(input(\"enter the no of elements\"))\n",
    "for i in range(n):\n",
    "    a=int(input())\n",
    "    l.append(a)\n",
    "a=np.array(l)\n",
    "max=0\n",
    "for i in range(1,len(a)):\n",
    "    max=a[0]\n",
    "    if(max<a[i]):\n",
    "        max=a[i]\n",
    "print(\"max\", max)        "
   ]
  },
  {
   "cell_type": "code",
   "execution_count": 2,
   "id": "8c17821d",
   "metadata": {},
   "outputs": [
    {
     "name": "stdout",
     "output_type": "stream",
     "text": [
      "enter the elements seprated by space66 77 88 99 0 -555\n",
      "[66, 77, 88, 99, 0, -555]\n",
      "max 99\n"
     ]
    }
   ],
   "source": [
    "#2.Write a Python Program to find largest element in an array?\n",
    "import numpy as np\n",
    "\n",
    "l=[]\n",
    "l=[int(i) for i in input(\"enter the elements seprated by space\").split()]\n",
    "print(l)\n",
    "a=np.array(l)\n",
    "print(\"max\", max(a))        "
   ]
  },
  {
   "cell_type": "code",
   "execution_count": 2,
   "id": "cc8c9b85",
   "metadata": {},
   "outputs": [
    {
     "name": "stdout",
     "output_type": "stream",
     "text": [
      "[44, 55, 66, 22, 33]\n"
     ]
    }
   ],
   "source": [
    "#3 Write a Python Program for array rotation?\n",
    "#left rotation\n",
    "l=[22,33,44,55,66]\n",
    "r=3\n",
    "l1=[]\n",
    "for i in range(len(l)):\n",
    "    a=l[(i+r-1)%5]\n",
    "    l1.append(a)\n",
    "print(l1)    \n",
    "    \n",
    "    \n",
    "    \n",
    "    "
   ]
  },
  {
   "cell_type": "code",
   "execution_count": 9,
   "id": "f00e621f",
   "metadata": {},
   "outputs": [
    {
     "name": "stdout",
     "output_type": "stream",
     "text": [
      "[2, 3, 4, 5, 53, 6, 63, 7, 74, 9, 88]\n",
      "enter k3\n",
      "[53, 6, 63, 7, 74, 9, 88, 2, 3, 4, 5]\n"
     ]
    }
   ],
   "source": [
    "#4 Write a Python Program to Split the array and add the first part to the end?\n",
    "l=[2,3,4,5,53,6,63,7,74,9,88]\n",
    "print(l)\n",
    "k=int(input(\"enter k\"))\n",
    "a1=l[:k+1:]\n",
    "a2=l[k+1:len(l)]\n",
    "for i in a1:\n",
    "    a2.append(i)\n",
    "\n",
    "print(a2)\n"
   ]
  },
  {
   "cell_type": "code",
   "execution_count": 44,
   "id": "2bced219",
   "metadata": {},
   "outputs": [
    {
     "data": {
      "text/plain": [
       "True"
      ]
     },
     "execution_count": 44,
     "metadata": {},
     "output_type": "execute_result"
    }
   ],
   "source": [
    "#5.Write a Python Program to check if given array is Monotonic?\n",
    "#monotonic means either decreasing or increasing\n",
    "\n",
    "def monotonic(n):\n",
    "    flag=0\n",
    "    for i in range(0,len(n)-1):\n",
    "        \n",
    "        if n[i]<=n[i+1]:\n",
    "            flag=1\n",
    "        else:\n",
    "            flag=0\n",
    "            break\n",
    "            \n",
    "    for i in range(0,len(n)-1):\n",
    "       \n",
    "        if n[i]>=n[i+1]:\n",
    "            flag=1 \n",
    "        else:\n",
    "            flag=0\n",
    "            break    \n",
    "            \n",
    "            \n",
    "    if flag==1:\n",
    "        return True\n",
    "    else:\n",
    "        return False\n",
    "        \n",
    "\n",
    "\n",
    "\n",
    "l=[22,43,144,55]\n",
    "l2=[0,-2,-4,-5]\n",
    "monotonic(l2)\n",
    "\n",
    "        \n",
    "        "
   ]
  },
  {
   "cell_type": "code",
   "execution_count": null,
   "id": "7095a544",
   "metadata": {},
   "outputs": [],
   "source": [
    "\n",
    "    "
   ]
  },
  {
   "cell_type": "code",
   "execution_count": null,
   "id": "9aa83a89",
   "metadata": {},
   "outputs": [],
   "source": [
    "\n"
   ]
  },
  {
   "cell_type": "code",
   "execution_count": null,
   "id": "d1ec930b",
   "metadata": {},
   "outputs": [],
   "source": []
  },
  {
   "cell_type": "code",
   "execution_count": null,
   "id": "9ab7449b",
   "metadata": {},
   "outputs": [],
   "source": []
  },
  {
   "cell_type": "code",
   "execution_count": null,
   "id": "85ffcfa9",
   "metadata": {},
   "outputs": [],
   "source": []
  }
 ],
 "metadata": {
  "kernelspec": {
   "display_name": "Python 3",
   "language": "python",
   "name": "python3"
  },
  "language_info": {
   "codemirror_mode": {
    "name": "ipython",
    "version": 3
   },
   "file_extension": ".py",
   "mimetype": "text/x-python",
   "name": "python",
   "nbconvert_exporter": "python",
   "pygments_lexer": "ipython3",
   "version": "3.9.12"
  }
 },
 "nbformat": 4,
 "nbformat_minor": 5
}
