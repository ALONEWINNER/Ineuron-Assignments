{
 "cells": [
  {
   "cell_type": "markdown",
   "id": "ac8de101",
   "metadata": {},
   "source": [
    "# Question 1:\n",
    "Write a program that calculates and prints the value according to the given formula:\n",
    "Q = Square root of [(2 * C * D)/H]\n",
    "Following are the fixed values of C and H:\n",
    "C is 50. H is 30.\n",
    "D is the variable whose values should be input to your program in a comma-separated\n",
    "sequence.\n",
    "Example\n",
    "Let us assume the following comma separated input sequence is given to the program:\n",
    "100,150,180\n",
    "The output of the program should be:\n",
    "18,22,24"
   ]
  },
  {
   "cell_type": "code",
   "execution_count": 28,
   "id": "7bf64e6f",
   "metadata": {},
   "outputs": [
    {
     "name": "stdout",
     "output_type": "stream",
     "text": [
      "enter D element in comma-separated sequence.100,150,180\n",
      "[18, 22, 24]\n"
     ]
    }
   ],
   "source": [
    "C,H=50,30\n",
    "import math\n",
    "D1=\"\"\n",
    "D=[]\n",
    "D1=input(\"enter D element in comma-separated sequence.\")\n",
    "D=D1.split(\",\")\n",
    "Q=[]\n",
    "q=0\n",
    "for i in range(len(D)):\n",
    "    \n",
    "    q=(((2*C)*(int(D[i])))/H)**(0.5)  \n",
    "    Q.append(math.floor(q))\n",
    "print(Q)    \n",
    "    \n"
   ]
  },
  {
   "cell_type": "markdown",
   "id": "8431cf31",
   "metadata": {},
   "source": [
    "# Question 2:\n",
    "Write a program which takes 2 digits, X,Y as input and generates a 2-dimensional array. The\n",
    "element value in the i-th row and j-th column of the array should be i*j.\n",
    "Note: i=0,1.., X-1; j=0,1,¡Y-1.\n",
    "Example\n",
    "Suppose the following inputs are given to the program:\n",
    "3,5\n",
    "Then, the output of the program should be:\n",
    "[[0, 0, 0, 0, 0], [0, 1, 2, 3, 4], [0, 2, 4, 6, 8]]\n"
   ]
  },
  {
   "cell_type": "code",
   "execution_count": 52,
   "id": "d603e950",
   "metadata": {},
   "outputs": [
    {
     "name": "stdout",
     "output_type": "stream",
     "text": [
      "x=3\n",
      "y=5\n",
      "[[0, 0, 0, 0, 0], [0, 1, 2, 3, 4], [0, 2, 4, 6, 8]]\n"
     ]
    }
   ],
   "source": [
    "x,y=int(input(\"x=\")),int(input(\"y=\"))\n",
    "l=[[0,0,0,0,0],\n",
    "   [0,0,0,0,0],\n",
    "   [0,0,0,0,0]]\n",
    "\n",
    "for i in range(x):\n",
    "    for j in range(y):\n",
    "        l[i][j]=i*j\n",
    "print(l)    "
   ]
  },
  {
   "cell_type": "markdown",
   "id": "37eefb37",
   "metadata": {},
   "source": [
    "# Question 3:\n",
    "Write a program that accepts a comma separated sequence of words as input and prints the\n",
    "words in a comma-separated sequence after sorting them alphabetically.\n",
    "Suppose the following input is supplied to the program:\n",
    "without,hello,bag,world\n",
    "Then, the output should be:\n",
    "bag,hello,without,world\n",
    "\n"
   ]
  },
  {
   "cell_type": "code",
   "execution_count": 53,
   "id": "d75c889f",
   "metadata": {},
   "outputs": [
    {
     "name": "stdout",
     "output_type": "stream",
     "text": [
      "enter comma separated sequence of wordswithout,hello,bag,world\n",
      "['bag', 'hello', 'without', 'world']\n"
     ]
    }
   ],
   "source": [
    "s=input(\"enter comma separated sequence of words\")\n",
    "l=s.split(\",\")\n",
    "l.sort()\n",
    "print(l)\n"
   ]
  },
  {
   "cell_type": "markdown",
   "id": "78024de3",
   "metadata": {},
   "source": [
    "# \n",
    "Question 4:\n",
    "Write a program that accepts a sequence of whitespace separated words as input and prints\n",
    "the words after removing all duplicate words and sorting them alphanumerically.\n",
    "Suppose the following input is supplied to the program:\n",
    "hello world and practice makes perfect and hello world again\n",
    "Then, the output should be:\n",
    "again and hello makes perfect practice world\n"
   ]
  },
  {
   "cell_type": "code",
   "execution_count": 62,
   "id": "a611d7c9",
   "metadata": {},
   "outputs": [
    {
     "name": "stdout",
     "output_type": "stream",
     "text": [
      "enter a sequence of whitespace separated words   : hello world and practice makes perfect and hello world again\n",
      "o/p  again and hello makes perfect practice world\n"
     ]
    }
   ],
   "source": [
    "s=input(\"enter a sequence of whitespace separated words   : \")\n",
    "l=s.split()\n",
    "l1=list(set(l))\n",
    "l1.sort()\n",
    "s1=\"\"\n",
    "for i in l1:\n",
    "    s1=s1+\" \"+i\n",
    "print(\"o/p\",s1)    "
   ]
  },
  {
   "cell_type": "markdown",
   "id": "a2e55ea4",
   "metadata": {},
   "source": [
    "# Question 5:\n",
    "Write a program that accepts a sentence and calculate the number of letters and digits.\n",
    "Suppose the following input is supplied to the program:\n",
    "hello world! 123\n",
    "Then, the output should be:\n",
    "LETTERS 10\n",
    "\n",
    "DIGITS 3"
   ]
  },
  {
   "cell_type": "code",
   "execution_count": 68,
   "id": "d50d8ce3",
   "metadata": {},
   "outputs": [
    {
     "name": "stdout",
     "output_type": "stream",
     "text": [
      "hello world! 123\n",
      "LETTERS 10 \n",
      " DIGITS 3\n"
     ]
    }
   ],
   "source": [
    "s=input()\n",
    "d=c=0\n",
    "for i in s:\n",
    "    if i.isdigit():\n",
    "        c+=1\n",
    "    elif i.isalpha():\n",
    "        d+=1\n",
    "    else:\n",
    "        pass\n",
    "print(\"LETTERS\",d,\"\\n\",\"DIGITS\",c)    \n",
    "        "
   ]
  },
  {
   "cell_type": "markdown",
   "id": "af8909d0",
   "metadata": {},
   "source": [
    "# \n",
    "Question 6:\n",
    "A website requires the users to input username and password to register. Write a program to\n",
    "check the validity of password input by users.\n",
    "Following are the criteria for checking the password:\n",
    "1. At least 1 letter between [a-z]\n",
    "2. At least 1 number between [0-9]\n",
    "1. At least 1 letter between [A-Z]\n",
    "3. At least 1 character from [$#@]\n",
    "4. Minimum length of transaction password: 6\n",
    "5. Maximum length of transaction password: 12\n",
    "Your program should accept a sequence of comma separated passwords and will check them\n",
    "according to the above criteria. Passwords that match the criteria are to be printed, each\n",
    "separated by a comma.\n",
    "Example\n",
    "If the following passwords are given as input to the program:\n",
    "ABd1234@1,a F1#,2w3E*,2We3345\n",
    "Then, the output of the program should be:\n",
    "ABd1234@1\n"
   ]
  },
  {
   "cell_type": "code",
   "execution_count": 72,
   "id": "4a53dd89",
   "metadata": {},
   "outputs": [
    {
     "name": "stdout",
     "output_type": "stream",
     "text": [
      "enter sequence of comma separated passwords  :ABd1234@1,a F1#,2w3E*,2We3345\n",
      "ABd1234@1\n"
     ]
    }
   ],
   "source": [
    "s=input(\"enter sequence of comma separated passwords  :\")\n",
    "import re\n",
    "l=s.split(\",\")\n",
    "for i in l:\n",
    "    if(len(i)>=6 and len(i)<=12):\n",
    "        if re.search(\"([a-z])+\", i):\n",
    "            if re.search(\"([A-Z])+\", i):\n",
    "                if re.search(\"([0-9])+\", i):\n",
    "                    if re.search(\"([#,@,$])+\", i):\n",
    "                        print(i)\n",
    "            \n",
    "    \n",
    "            \n",
    "                \n",
    "   \n",
    "        "
   ]
  },
  {
   "cell_type": "code",
   "execution_count": null,
   "id": "27fffbd2",
   "metadata": {},
   "outputs": [],
   "source": []
  },
  {
   "cell_type": "code",
   "execution_count": null,
   "id": "32cfe7a9",
   "metadata": {},
   "outputs": [],
   "source": []
  }
 ],
 "metadata": {
  "kernelspec": {
   "display_name": "Python 3",
   "language": "python",
   "name": "python3"
  },
  "language_info": {
   "codemirror_mode": {
    "name": "ipython",
    "version": 3
   },
   "file_extension": ".py",
   "mimetype": "text/x-python",
   "name": "python",
   "nbconvert_exporter": "python",
   "pygments_lexer": "ipython3",
   "version": "3.9.12"
  }
 },
 "nbformat": 4,
 "nbformat_minor": 5
}
