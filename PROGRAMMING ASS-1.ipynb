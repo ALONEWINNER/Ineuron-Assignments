{
 "cells": [
  {
   "cell_type": "markdown",
   "id": "34a4d008",
   "metadata": {},
   "source": [
    "1. Write a Python program to print &quot;Hello Python&quot;?\n",
    "2. Write a Python program to do arithmetical operations addition and division.?\n",
    "3. Write a Python program to find the area of a triangle?\n",
    "4. Write a Python program to swap two variables?\n",
    "5. Write a Python program to generate a random number?"
   ]
  },
  {
   "cell_type": "code",
   "execution_count": 1,
   "id": "58f9fb11",
   "metadata": {},
   "outputs": [
    {
     "name": "stdout",
     "output_type": "stream",
     "text": [
      "Hello Python\n"
     ]
    }
   ],
   "source": [
    "#1\n",
    "print(\"Hello Python\")"
   ]
  },
  {
   "cell_type": "code",
   "execution_count": 5,
   "id": "23d6202d",
   "metadata": {},
   "outputs": [
    {
     "name": "stdout",
     "output_type": "stream",
     "text": [
      "30\n",
      "0\n",
      "0.5\n"
     ]
    }
   ],
   "source": [
    "#2\n",
    "#addition\n",
    "a=10\n",
    "b=20\n",
    "print(a+b)\n",
    "print(a//b)\n",
    "print(a/b)"
   ]
  },
  {
   "cell_type": "code",
   "execution_count": 7,
   "id": "510ce3ea",
   "metadata": {},
   "outputs": [
    {
     "name": "stdout",
     "output_type": "stream",
     "text": [
      "Enter  height8\n",
      "Enter base9\n",
      "Area of Triangle is  36.0\n"
     ]
    }
   ],
   "source": [
    "#3   Area of a traingle\n",
    "\n",
    "h=int(input(\"Enter  height\"))\n",
    "b=int(input(\"Enter base\"))\n",
    "Area=0.5*h*b\n",
    "print(\"Area of Triangle is \",Area)"
   ]
  },
  {
   "cell_type": "code",
   "execution_count": 10,
   "id": "c9ed60ce",
   "metadata": {},
   "outputs": [
    {
     "name": "stdout",
     "output_type": "stream",
     "text": [
      "a= 8\n",
      "b= 10\n"
     ]
    }
   ],
   "source": [
    "#4 swap\n",
    "a=10\n",
    "b=8\n",
    "a,b=b,a\n",
    "print(\"a=\",a)\n",
    "print(\"b=\",b)"
   ]
  },
  {
   "cell_type": "code",
   "execution_count": 13,
   "id": "f1417e0a",
   "metadata": {},
   "outputs": [
    {
     "name": "stdout",
     "output_type": "stream",
     "text": [
      "0.20754143689147664\n"
     ]
    }
   ],
   "source": [
    "#5 generate random number\n",
    "import random\n",
    "print(random.random())\n"
   ]
  },
  {
   "cell_type": "code",
   "execution_count": null,
   "id": "43f52024",
   "metadata": {},
   "outputs": [],
   "source": []
  },
  {
   "cell_type": "code",
   "execution_count": null,
   "id": "5f1bfae5",
   "metadata": {},
   "outputs": [],
   "source": []
  }
 ],
 "metadata": {
  "kernelspec": {
   "display_name": "Python 3",
   "language": "python",
   "name": "python3"
  },
  "language_info": {
   "codemirror_mode": {
    "name": "ipython",
    "version": 3
   },
   "file_extension": ".py",
   "mimetype": "text/x-python",
   "name": "python",
   "nbconvert_exporter": "python",
   "pygments_lexer": "ipython3",
   "version": "3.9.12"
  }
 },
 "nbformat": 4,
 "nbformat_minor": 5
}
