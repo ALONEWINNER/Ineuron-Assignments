{
 "cells": [
  {
   "cell_type": "code",
   "execution_count": 1,
   "id": "482753f9",
   "metadata": {},
   "outputs": [
    {
     "name": "stdout",
     "output_type": "stream",
     "text": [
      "[[5, 8, 10], [11, 13, 5], [49, 39, 62]]\n"
     ]
    }
   ],
   "source": [
    "#Write a Python Program to Add Two Matrices?\n",
    "import numpy as np\n",
    "l2=[[2,4,5],\n",
    "[3,4,5],\n",
    "[5,6,7]]\n",
    "arr1=np.array(l2)\n",
    "l1=[[3,4,5],\n",
    "   [8,9,0],\n",
    "   [44,33,55]]\n",
    "arr2=np.array(l1)\n",
    "\n",
    "l3=[[0,0,0],\n",
    "   [0,0,0],\n",
    "   [0,0,0]]\n",
    "for i in range(len(l2)):\n",
    "    for j in range(len(l1)):\n",
    "        l3[i][j]=l1[i][j]+l2[i][j]\n",
    "        \n",
    "        \n",
    "print(l3)\n"
   ]
  },
  {
   "cell_type": "code",
   "execution_count": 2,
   "id": "58a399f2",
   "metadata": {},
   "outputs": [
    {
     "name": "stdout",
     "output_type": "stream",
     "text": [
      "[[114, 160, 60], [74, 97, 73], [119, 157, 112]]\n"
     ]
    }
   ],
   "source": [
    "#Write a Python Program to Multiply Two Matrices?\n",
    "#Write a Python Program to Add Two Matrices?\n",
    "import numpy as np\n",
    "l1 = [[12,7,3],\n",
    "    [4 ,5,6],\n",
    "    [7 ,8,9]]\n",
    "\n",
    "# 3x4 matrix\n",
    "l2 = [[5,8,1,2],\n",
    "    [6,7,3,0],\n",
    "    [4,5,9,1]]\n",
    "\n",
    "l3=[[0,0,0],\n",
    "   [0,0,0],\n",
    "   [0,0,0]]\n",
    "\n",
    "for i in range(len(l2)):\n",
    "    for j in range(len(l1)):\n",
    "        for k in range(len(l3)):\n",
    "            l3[i][j]+=l1[i][k]*l2[k][j]\n",
    "        \n",
    "        \n",
    "print(l3)\n",
    "\n"
   ]
  },
  {
   "cell_type": "code",
   "execution_count": 3,
   "id": "d8296690",
   "metadata": {},
   "outputs": [
    {
     "name": "stdout",
     "output_type": "stream",
     "text": [
      "[[12, 4, 7], [7, 5, 8], [3, 6, 9]]\n"
     ]
    }
   ],
   "source": [
    "#Write a Python Program to Transpose a Matrix?\n",
    "\n",
    "l1 = [[12,7,3],\n",
    "    [4 ,5,6],\n",
    "    [7 ,8,9]]\n",
    "for i in range(len(l1)):\n",
    "    for j in range(len(l1)):\n",
    "        l3[i][j]=l1[j][i]\n",
    "print(l3)        "
   ]
  },
  {
   "cell_type": "code",
   "execution_count": 4,
   "id": "c2ef8be4",
   "metadata": {},
   "outputs": [
    {
     "name": "stdout",
     "output_type": "stream",
     "text": [
      "shubham is a boy\n",
      "['shubham', 'is', 'a', 'boy']\n",
      "['a', 'boy', 'is', 'shubham']\n"
     ]
    }
   ],
   "source": [
    "#Write a Python Program to Sort Words in Alphabetic Order?\n",
    "str1=input()\n",
    "word=str1.split()\n",
    "print(word)\n",
    "word.sort()\n",
    "print(word)"
   ]
  },
  {
   "cell_type": "code",
   "execution_count": 5,
   "id": "a3d8a34a",
   "metadata": {},
   "outputs": [
    {
     "name": "stdout",
     "output_type": "stream",
     "text": [
      "shubhadiuud623626137832899328\n"
     ]
    }
   ],
   "source": [
    "#Write a Python Program to Remove Punctuation From a String?\n",
    "str1=\"#$%&^&*(^&*%&*?\\shubha,diuud623626137832899328.\"\n",
    "punc = '''!()-[]{};:'\"\\,<>./?@#$%^&*_~'''\n",
    "for i in str1:\n",
    "    if i in punc:\n",
    "        str1=str1.replace(i,\"\")\n",
    "        \n",
    "print(str1)        "
   ]
  },
  {
   "cell_type": "code",
   "execution_count": null,
   "id": "14469e4e",
   "metadata": {},
   "outputs": [],
   "source": []
  }
 ],
 "metadata": {
  "kernelspec": {
   "display_name": "Python 3",
   "language": "python",
   "name": "python3"
  },
  "language_info": {
   "codemirror_mode": {
    "name": "ipython",
    "version": 3
   },
   "file_extension": ".py",
   "mimetype": "text/x-python",
   "name": "python",
   "nbconvert_exporter": "python",
   "pygments_lexer": "ipython3",
   "version": "3.9.12"
  }
 },
 "nbformat": 4,
 "nbformat_minor": 5
}
