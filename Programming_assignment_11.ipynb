{
 "cells": [
  {
   "cell_type": "markdown",
   "id": "8a5ec7b6",
   "metadata": {},
   "source": [
    "# Ass:11\n",
    "1. Write a Python program to find words which are greater than given length k?\n",
    "2. Write a Python program for removing i-th character from a string?\n",
    "3. Write a Python program to split and join a string?\n",
    "4. Write a Python to check if a given string is binary string or not?\n",
    "5. Write a Python program to find uncommon words from two Strings?\n",
    "6. Write a Python to find all duplicate characters in string?\n",
    "7. Write a Python Program to check if a string contains any special character?\n"
   ]
  },
  {
   "cell_type": "code",
   "execution_count": 27,
   "id": "ce0bc644",
   "metadata": {},
   "outputs": [
    {
     "name": "stdout",
     "output_type": "stream",
     "text": [
      "enter the length6\n",
      "humans,\n",
      "sapiens,\n",
      "arrived\n",
      "subcontinent\n",
      "Africa,\n",
      "earlier\n",
      "evolved.The\n",
      "earliest\n",
      "remains\n",
      "ago.After\n",
      "evidence\n",
      "domestication\n",
      "animals,\n",
      "construction\n",
      "permanent\n",
      "structures,\n",
      "storage\n",
      "agricultural\n",
      "surplus\n",
      "appeared\n",
      "Mehrgarhand\n",
      "Balochistan,\n",
      "Pakistan.These\n",
      "gradually\n",
      "developed\n",
      "civilisation,\n",
      "culture\n",
      "Asia,which\n",
      "flourished\n",
      "2500â€“1900\n",
      "Pakistan\n",
      "western\n",
      "Centred\n",
      "Mohenjo-daro,\n",
      "Harappa,\n",
      "Dholavira,\n",
      "Kalibangan,\n",
      "relying\n",
      "subsistence,\n",
      "civilisation\n",
      "engaged\n",
      "robustly\n",
      "production\n",
      "wide-ranging\n",
      "trade.During\n",
      "2000â€“500\n",
      "regions\n",
      "subcontinent\n",
      "transitioned\n",
      "Chalcolithic\n",
      "cultures\n",
      "ones.The\n",
      "scriptures\n",
      "associated\n",
      "Hinduism,\n",
      "wercomposed\n",
      "period,and\n",
      "historians\n",
      "analysed\n",
      "culture\n"
     ]
    }
   ],
   "source": [
    "#Write a Python program to find words which are greater than given length k?\n",
    "k=int(input(\"enter the length\"))\n",
    "\n",
    "l=['shubham','']\n",
    "f=open(\"india.txt\",\"r+\")\n",
    "l1=[]\n",
    "l=f.readline()\n",
    "l1=list(l.split(\" \"))\n",
    "for i in l1:\n",
    "    if(len(i)>k):\n",
    "        print(i)\n",
    "    \n",
    " \n"
   ]
  },
  {
   "cell_type": "code",
   "execution_count": 39,
   "id": "4f762d34",
   "metadata": {},
   "outputs": [
    {
     "name": "stdout",
     "output_type": "stream",
     "text": [
      "enter i-th character6\n",
      "shubhabapuhai\n"
     ]
    }
   ],
   "source": [
    "#Write a Python program for removing i-th character from a string?\n",
    "s=\"shubhambapuhai\"\n",
    "l=list(s)\n",
    "s1=\"\"\n",
    "i=int(input(\"enter i-th character\"))\n",
    "for i in range(len(l)):\n",
    "    if(i!=k):\n",
    "        s1+=l[i]\n",
    "\n",
    "print(s1)\n",
    "        \n",
    "        \n",
    "    "
   ]
  },
  {
   "cell_type": "code",
   "execution_count": 43,
   "id": "11ba0d0c",
   "metadata": {},
   "outputs": [
    {
     "name": "stdout",
     "output_type": "stream",
     "text": [
      "['shubham', 'is', 'a', 'boy']\n",
      "shubhamisaboy\n"
     ]
    }
   ],
   "source": [
    "#Write a Python program to split and join a string?\n",
    "s=\"shubham,is,a,boy\"\n",
    "l=s.split(\",\")\n",
    "print(l)\n",
    "s1=\"\"\n",
    "for i in range(len(l)):\n",
    "    s1+=l[i]\n",
    "print(s1)    "
   ]
  },
  {
   "cell_type": "code",
   "execution_count": 47,
   "id": "9be3d3e9",
   "metadata": {},
   "outputs": [
    {
     "name": "stdout",
     "output_type": "stream",
     "text": [
      "['shubham', 'is', 'a', 'boy']\n",
      "shubham,is,a,boy\n"
     ]
    }
   ],
   "source": [
    "s=\"shubham,is,a,boy\"\n",
    "l=s.split(\",\")\n",
    "print(l)\n",
    "s1=\"\"\n",
    "#uisng join\n",
    "s1=\",\".join(l)\n",
    "print(s1)"
   ]
  },
  {
   "cell_type": "code",
   "execution_count": 54,
   "id": "355dab1f",
   "metadata": {},
   "outputs": [
    {
     "name": "stdout",
     "output_type": "stream",
     "text": [
      "10100101\n",
      "binary string\n"
     ]
    }
   ],
   "source": [
    "#Write a Python to check if a given string is binary string or not?\n",
    "s=input()\n",
    "flag=0\n",
    "for i in range(len(s)):\n",
    "    if(s[i]!='0' and s[i]!='1'):\n",
    "        flag=1\n",
    "        break\n",
    "if(flag==0):\n",
    "    print(\"binary string\")\n",
    "else:\n",
    "    print(\"non binary string\")\n",
    "    "
   ]
  },
  {
   "cell_type": "code",
   "execution_count": 141,
   "id": "f8135e41",
   "metadata": {},
   "outputs": [
    {
     "name": "stdout",
     "output_type": "stream",
     "text": [
      "['shubham', 'is', 'a', 'boy']\n",
      "lo bete:   shubham boy sonam girl\n"
     ]
    }
   ],
   "source": [
    "#Write a Python program to find uncommon words from two Strings?\n",
    "s=\"shubham is a boy\"\n",
    "s1=\"sonam is a girl\"\n",
    "l=s.split()\n",
    "l2=s1.split()\n",
    "u=\" \"\n",
    "for i in l:\n",
    "        if i not in l2:\n",
    "            u=u+\" \"+i\n",
    "for j in l2:\n",
    "        if j not in l1:\n",
    "            u=u+\" \"+j \n",
    "            \n",
    "print(\"lo bete:\",u)            \n",
    "\n"
   ]
  },
  {
   "cell_type": "code",
   "execution_count": 154,
   "id": "d525a2f3",
   "metadata": {},
   "outputs": [
    {
     "name": "stdout",
     "output_type": "stream",
     "text": [
      "o\n",
      "j\n",
      "e\n",
      "i\n",
      "s\n",
      "b\n",
      "u\n",
      "f\n",
      "w\n",
      "a\n",
      "d\n",
      "c\n",
      "h\n"
     ]
    }
   ],
   "source": [
    "#Write a Python to find all duplicate characters in string?\n",
    "s=\"aaaabbbcccshshhhhsjdehdjhjddjheidudjdbwhieefefbehferfoeldjwdbwdhwfgeduieodwdehevbefedhewiddbbshbdjsdwajdasjdhehsdhjsw\"\n",
    "s1=set(s)\n",
    "for i in s1:\n",
    "     if(s.count(i)>1):\n",
    "            print(i)"
   ]
  },
  {
   "cell_type": "code",
   "execution_count": 152,
   "id": "656481df",
   "metadata": {},
   "outputs": [
    {
     "name": "stdout",
     "output_type": "stream",
     "text": [
      "@\n"
     ]
    }
   ],
   "source": [
    "#Write a Python Program to check if a string contains any special character?\n",
    "special=\"@#$%&!^&*(){}[]?~\"\n",
    "s=\"shubham@123\"\n",
    "for i in s:\n",
    "    for x in special:\n",
    "        if x==i:\n",
    "            print(x)"
   ]
  },
  {
   "cell_type": "code",
   "execution_count": null,
   "id": "ee4a527a",
   "metadata": {},
   "outputs": [],
   "source": []
  },
  {
   "cell_type": "code",
   "execution_count": null,
   "id": "4c19c76c",
   "metadata": {},
   "outputs": [],
   "source": []
  },
  {
   "cell_type": "code",
   "execution_count": null,
   "id": "48a7a654",
   "metadata": {},
   "outputs": [],
   "source": []
  },
  {
   "cell_type": "code",
   "execution_count": null,
   "id": "a735a6b7",
   "metadata": {},
   "outputs": [],
   "source": []
  },
  {
   "cell_type": "code",
   "execution_count": null,
   "id": "248dffda",
   "metadata": {},
   "outputs": [],
   "source": []
  },
  {
   "cell_type": "code",
   "execution_count": null,
   "id": "9ca8c9d8",
   "metadata": {},
   "outputs": [],
   "source": []
  }
 ],
 "metadata": {
  "kernelspec": {
   "display_name": "Python 3",
   "language": "python",
   "name": "python3"
  },
  "language_info": {
   "codemirror_mode": {
    "name": "ipython",
    "version": 3
   },
   "file_extension": ".py",
   "mimetype": "text/x-python",
   "name": "python",
   "nbconvert_exporter": "python",
   "pygments_lexer": "ipython3",
   "version": "3.9.12"
  }
 },
 "nbformat": 4,
 "nbformat_minor": 5
}
