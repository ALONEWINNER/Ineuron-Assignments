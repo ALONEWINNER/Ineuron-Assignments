{
 "cells": [
  {
   "cell_type": "markdown",
   "id": "8960fb72",
   "metadata": {},
   "source": [
    "# Ass:9\n",
    "1. Write a Python program to check if the given number is a Disarium Number?\n",
    "2. Write a Python program to print all disarium numbers between 1 to 100?\n",
    "3. Write a Python program to check if the given number is Happy Number?\n",
    "4. Write a Python program to print all happy numbers between 1 and 100?\n",
    "5. Write a Python program to determine whether the given number is a Harshad Number?\n",
    "6. Write a Python program to print all pronic numbers between 1 and 100?\n",
    " "
   ]
  },
  {
   "cell_type": "markdown",
   "id": "e2461be3",
   "metadata": {},
   "source": [
    "#Write a Python program to check if the given number is a Disarium Number?\n",
    "A disarium number is a number in which the sum of the digits to the power of their \n",
    "respective position is equal to the number itself \n",
    "Example of a Disarium number is 175,\n",
    "1¹ + 7² + 5³ = 1 + 49 + 125= 175\n",
    "Hence,175 is a disarium number."
   ]
  },
  {
   "cell_type": "code",
   "execution_count": 11,
   "id": "d321b48d",
   "metadata": {},
   "outputs": [
    {
     "name": "stdout",
     "output_type": "stream",
     "text": [
      "6\n",
      "yes\n"
     ]
    }
   ],
   "source": [
    "#Write a Python program to check if the given number is a Disarium Number?\n",
    "n=input()\n",
    "n1=int(n)\n",
    "q=n1\n",
    "sum1=0\n",
    "c=0\n",
    "a=(len(n))\n",
    "while(n1>0):\n",
    "    rem=n1%10\n",
    "    sum1+=(rem**(a-c))\n",
    "    n1=n1//10\n",
    "    c=c+1\n",
    "  \n",
    "if(sum1==q):\n",
    "    print(\"yes\")\n",
    "else:\n",
    "    print(\"false\")\n",
    "    \n",
    "    \n",
    "    "
   ]
  },
  {
   "cell_type": "code",
   "execution_count": 25,
   "id": "808b141e",
   "metadata": {},
   "outputs": [
    {
     "name": "stdout",
     "output_type": "stream",
     "text": [
      "1 2 3 4 5 6 7 8 9 89 135 175 "
     ]
    }
   ],
   "source": [
    "#Write a Python program to print all disarium numbers between 1 to 100?\n",
    "def disarium_no(n1):\n",
    "    n=str(n1)\n",
    "    q=n1\n",
    "    sum=0\n",
    "    c=0\n",
    "    a=(len(n))\n",
    "    while(n1>0):\n",
    "        rem=n1%10\n",
    "        sum+=(rem**(a-c))\n",
    "        n1=n1//10\n",
    "        c=c+1\n",
    "    if q==sum:\n",
    "        return True\n",
    "    else:\n",
    "        return False\n",
    "    \n",
    "for i in range(1,176):\n",
    "    if(disarium_no(i)==True):\n",
    "        print(i,end=\" \")\n",
    "        \n",
    "    \n",
    "    "
   ]
  },
  {
   "cell_type": "markdown",
   "id": "69bef914",
   "metadata": {},
   "source": [
    "#Write a Python program to check if the given number is Happy Number?\n",
    "A number is called happy if it leads to 1 after a sequence of steps wherein each step number is replaced by the sum of squares of its digit that is if we start with Happy Number and keep replacing it with digits square sum, we reach 1.\n",
    "    "
   ]
  },
  {
   "cell_type": "code",
   "execution_count": 26,
   "id": "07c9ab16",
   "metadata": {},
   "outputs": [
    {
     "data": {
      "text/plain": [
       "4"
      ]
     },
     "execution_count": 26,
     "metadata": {},
     "output_type": "execute_result"
    }
   ],
   "source": [
    "Input: n = 19\n",
    "Output: True\n",
    "19 is Happy Number,\n",
    "1^2 + 9^2 = 82\n",
    "8^2 + 2^2 = 68\n",
    "6^2 + 8^2 = 100\n",
    "1^2 + 0^2 + 0^2 = 1\n",
    "As we reached to 1, 19 is a Happy Number.\n",
    "\n"
   ]
  },
  {
   "cell_type": "code",
   "execution_count": 4,
   "id": "d1ce01d4",
   "metadata": {},
   "outputs": [
    {
     "name": "stdout",
     "output_type": "stream",
     "text": [
      "13\n",
      "Happy Number\n"
     ]
    }
   ],
   "source": [
    "def Happy_no(n):\n",
    "    sum=0\n",
    "    if n<=1:\n",
    "        return n\n",
    "    else:\n",
    "        while(n>0):\n",
    "            rem=n%10\n",
    "            sum=sum+(rem**2)\n",
    "            n=n//10\n",
    "        return(Happy_no(sum))\n",
    "\n",
    "n=int(input())    \n",
    "if(Happy_no(n)==1):\n",
    "    print(\"Happy Number\")\n",
    "else:\n",
    "    print(\"Not happy nUmber\")\n",
    "            \n"
   ]
  },
  {
   "cell_type": "code",
   "execution_count": 13,
   "id": "cb36bc9a",
   "metadata": {},
   "outputs": [
    {
     "name": "stdout",
     "output_type": "stream",
     "text": [
      "1 7 10 13 19 23 28 31 32 44 49 68 70 79 82 86 91 94 97 100 103 109 129 130 133 139 167 176 188 190 192 193 203 208 219 226 230 236 239 262 263 280 291 293 301 302 310 313 319 320 326 329 331 338 356 362 365 367 368 376 379 383 386 391 392 397 404 409 440 446 464 469 478 487 490 496 536 556 563 565 566 608 617 622 623 632 635 637 638 644 649 653 655 656 665 671 673 680 683 694 700 709 716 736 739 748 761 763 784 790 793 802 806 818 820 833 836 847 860 863 874 881 888 899 901 904 907 910 912 913 921 923 931 932 937 940 946 964 970 973 989 998 1000 \n",
      "\n",
      "total happy no till 1000: 143\n",
      "\n",
      "\n",
      "total unhappy no till 1000: 857\n",
      "unhappyno: [2, 3, 4, 5, 6, 8, 9, 11, 12, 14, 15, 16, 17, 18, 20, 21, 22, 24, 25, 26, 27, 29, 30, 33, 34, 35, 36, 37, 38, 39, 40, 41, 42, 43, 45, 46, 47, 48, 50, 51, 52, 53, 54, 55, 56, 57, 58, 59, 60, 61, 62, 63, 64, 65, 66, 67, 69, 71, 72, 73, 74, 75, 76, 77, 78, 80, 81, 83, 84, 85, 87, 88, 89, 90, 92, 93, 95, 96, 98, 99, 101, 102, 104, 105, 106, 107, 108, 110, 111, 112, 113, 114, 115, 116, 117, 118, 119, 120, 121, 122, 123, 124, 125, 126, 127, 128, 131, 132, 134, 135, 136, 137, 138, 140, 141, 142, 143, 144, 145, 146, 147, 148, 149, 150, 151, 152, 153, 154, 155, 156, 157, 158, 159, 160, 161, 162, 163, 164, 165, 166, 168, 169, 170, 171, 172, 173, 174, 175, 177, 178, 179, 180, 181, 182, 183, 184, 185, 186, 187, 189, 191, 194, 195, 196, 197, 198, 199, 200, 201, 202, 204, 205, 206, 207, 209, 210, 211, 212, 213, 214, 215, 216, 217, 218, 220, 221, 222, 223, 224, 225, 227, 228, 229, 231, 232, 233, 234, 235, 237, 238, 240, 241, 242, 243, 244, 245, 246, 247, 248, 249, 250, 251, 252, 253, 254, 255, 256, 257, 258, 259, 260, 261, 264, 265, 266, 267, 268, 269, 270, 271, 272, 273, 274, 275, 276, 277, 278, 279, 281, 282, 283, 284, 285, 286, 287, 288, 289, 290, 292, 294, 295, 296, 297, 298, 299, 300, 303, 304, 305, 306, 307, 308, 309, 311, 312, 314, 315, 316, 317, 318, 321, 322, 323, 324, 325, 327, 328, 330, 332, 333, 334, 335, 336, 337, 339, 340, 341, 342, 343, 344, 345, 346, 347, 348, 349, 350, 351, 352, 353, 354, 355, 357, 358, 359, 360, 361, 363, 364, 366, 369, 370, 371, 372, 373, 374, 375, 377, 378, 380, 381, 382, 384, 385, 387, 388, 389, 390, 393, 394, 395, 396, 398, 399, 400, 401, 402, 403, 405, 406, 407, 408, 410, 411, 412, 413, 414, 415, 416, 417, 418, 419, 420, 421, 422, 423, 424, 425, 426, 427, 428, 429, 430, 431, 432, 433, 434, 435, 436, 437, 438, 439, 441, 442, 443, 444, 445, 447, 448, 449, 450, 451, 452, 453, 454, 455, 456, 457, 458, 459, 460, 461, 462, 463, 465, 466, 467, 468, 470, 471, 472, 473, 474, 475, 476, 477, 479, 480, 481, 482, 483, 484, 485, 486, 488, 489, 491, 492, 493, 494, 495, 497, 498, 499, 500, 501, 502, 503, 504, 505, 506, 507, 508, 509, 510, 511, 512, 513, 514, 515, 516, 517, 518, 519, 520, 521, 522, 523, 524, 525, 526, 527, 528, 529, 530, 531, 532, 533, 534, 535, 537, 538, 539, 540, 541, 542, 543, 544, 545, 546, 547, 548, 549, 550, 551, 552, 553, 554, 555, 557, 558, 559, 560, 561, 562, 564, 567, 568, 569, 570, 571, 572, 573, 574, 575, 576, 577, 578, 579, 580, 581, 582, 583, 584, 585, 586, 587, 588, 589, 590, 591, 592, 593, 594, 595, 596, 597, 598, 599, 600, 601, 602, 603, 604, 605, 606, 607, 609, 610, 611, 612, 613, 614, 615, 616, 618, 619, 620, 621, 624, 625, 626, 627, 628, 629, 630, 631, 633, 634, 636, 639, 640, 641, 642, 643, 645, 646, 647, 648, 650, 651, 652, 654, 657, 658, 659, 660, 661, 662, 663, 664, 666, 667, 668, 669, 670, 672, 674, 675, 676, 677, 678, 679, 681, 682, 684, 685, 686, 687, 688, 689, 690, 691, 692, 693, 695, 696, 697, 698, 699, 701, 702, 703, 704, 705, 706, 707, 708, 710, 711, 712, 713, 714, 715, 717, 718, 719, 720, 721, 722, 723, 724, 725, 726, 727, 728, 729, 730, 731, 732, 733, 734, 735, 737, 738, 740, 741, 742, 743, 744, 745, 746, 747, 749, 750, 751, 752, 753, 754, 755, 756, 757, 758, 759, 760, 762, 764, 765, 766, 767, 768, 769, 770, 771, 772, 773, 774, 775, 776, 777, 778, 779, 780, 781, 782, 783, 785, 786, 787, 788, 789, 791, 792, 794, 795, 796, 797, 798, 799, 800, 801, 803, 804, 805, 807, 808, 809, 810, 811, 812, 813, 814, 815, 816, 817, 819, 821, 822, 823, 824, 825, 826, 827, 828, 829, 830, 831, 832, 834, 835, 837, 838, 839, 840, 841, 842, 843, 844, 845, 846, 848, 849, 850, 851, 852, 853, 854, 855, 856, 857, 858, 859, 861, 862, 864, 865, 866, 867, 868, 869, 870, 871, 872, 873, 875, 876, 877, 878, 879, 880, 882, 883, 884, 885, 886, 887, 889, 890, 891, 892, 893, 894, 895, 896, 897, 898, 900, 902, 903, 905, 906, 908, 909, 911, 914, 915, 916, 917, 918, 919, 920, 922, 924, 925, 926, 927, 928, 929, 930, 933, 934, 935, 936, 938, 939, 941, 942, 943, 944, 945, 947, 948, 949, 950, 951, 952, 953, 954, 955, 956, 957, 958, 959, 960, 961, 962, 963, 965, 966, 967, 968, 969, 971, 972, 974, 975, 976, 977, 978, 979, 980, 981, 982, 983, 984, 985, 986, 987, 988, 990, 991, 992, 993, 994, 995, 996, 997, 999]\n"
     ]
    }
   ],
   "source": [
    "#Write a Python program to print all happy numbers between 1 and 100.\n",
    "def Happy_no(n):\n",
    "    sum1=0\n",
    "    rem=0\n",
    "    while(n>0):\n",
    "        rem=n%10\n",
    "        sum1=sum1+(rem**2)\n",
    "        n=n//10\n",
    "    return(sum1)\n",
    "l=[]\n",
    "l1=[]\n",
    "for i in range(1,1001):\n",
    "    result = i;    \n",
    "        \n",
    "    #Happy number always ends with 1 ( 7, 49, 97, 130, 10, 1)and     \n",
    "    #unhappy number ends in a cycle of repeating numbers which contains 4 ( 4, 16, 37, 58, 89, 145, 42, 20, 4,...)  \n",
    "    while(result != 1 and result != 4):    \n",
    "        result = Happy_no(result);    \n",
    "        \n",
    "    if(result == 1):#if result==1, (it is happy no) if \n",
    "        l.append(i)\n",
    "        print(i,end=\" \")  \n",
    "    if(result==4):\n",
    "        l1.append(i)\n",
    "        \n",
    "print(\"\\n\\ntotal happy no till 1000:\",len(l))        \n",
    "print(\"\\n\\ntotal unhappy no till 1000:\",len(l1))\n",
    "print(\"unhappyno:\",l1)\n",
    "                \n",
    "    "
   ]
  },
  {
   "cell_type": "code",
   "execution_count": 8,
   "id": "d399b38a",
   "metadata": {},
   "outputs": [
    {
     "name": "stdout",
     "output_type": "stream",
     "text": [
      "Harshad no: 1\n",
      "Harshad no: 2\n",
      "Harshad no: 3\n",
      "Harshad no: 4\n",
      "Harshad no: 5\n",
      "Harshad no: 6\n",
      "Harshad no: 7\n",
      "Harshad no: 8\n",
      "Harshad no: 9\n",
      "Harshad no: 10\n",
      "Harshad no: 12\n",
      "Harshad no: 18\n",
      "Harshad no: 20\n",
      "Harshad no: 21\n",
      "Harshad no: 24\n",
      "Harshad no: 27\n",
      "Harshad no: 30\n",
      "Harshad no: 36\n",
      "Harshad no: 40\n",
      "Harshad no: 42\n",
      "Harshad no: 45\n",
      "Harshad no: 48\n",
      "Harshad no: 50\n",
      "Harshad no: 54\n",
      "Harshad no: 60\n",
      "Harshad no: 63\n",
      "Harshad no: 70\n",
      "Harshad no: 72\n",
      "Harshad no: 80\n",
      "Harshad no: 81\n",
      "Harshad no: 84\n",
      "Harshad no: 90\n"
     ]
    }
   ],
   "source": [
    "#Write a Python program to determine whether the given number is a Harshad Number?\n",
    "# number % sum of digit==0\n",
    "def div(n):\n",
    "    sum1=0\n",
    "    rem=0\n",
    "    while(n>0):\n",
    "        rem=n%10\n",
    "        sum1+=rem\n",
    "        n=n//10\n",
    "    return sum1\n",
    "for t in range(1,100):\n",
    "    if(t%div(t)==0):\n",
    "        print(\"Harshad no:\",t)\n",
    "\n",
    "    "
   ]
  },
  {
   "cell_type": "code",
   "execution_count": 10,
   "id": "db70f934",
   "metadata": {},
   "outputs": [
    {
     "name": "stdout",
     "output_type": "stream",
     "text": [
      "pronic no is : 2\n",
      "pronic no is : 6\n",
      "pronic no is : 12\n",
      "pronic no is : 20\n",
      "pronic no is : 30\n",
      "pronic no is : 42\n",
      "pronic no is : 56\n",
      "pronic no is : 72\n",
      "pronic no is : 90\n"
     ]
    }
   ],
   "source": [
    "#Write a Python program to print all pronic numbers between 1 and 100?\n",
    "def pronic(n):\n",
    "    flag=False\n",
    "    for i in range(1,n):\n",
    "        if(i*(i+1)==n):\n",
    "            flag=True\n",
    "            break\n",
    "    return flag\n",
    "for i in range(1,101):\n",
    "    if(pronic(i)==True):\n",
    "        print(\"pronic no is :\",i)\n",
    "    \n",
    "        "
   ]
  },
  {
   "cell_type": "code",
   "execution_count": null,
   "id": "918e5fc1",
   "metadata": {},
   "outputs": [],
   "source": []
  }
 ],
 "metadata": {
  "kernelspec": {
   "display_name": "Python 3",
   "language": "python",
   "name": "python3"
  },
  "language_info": {
   "codemirror_mode": {
    "name": "ipython",
    "version": 3
   },
   "file_extension": ".py",
   "mimetype": "text/x-python",
   "name": "python",
   "nbconvert_exporter": "python",
   "pygments_lexer": "ipython3",
   "version": "3.9.12"
  }
 },
 "nbformat": 4,
 "nbformat_minor": 5
}
