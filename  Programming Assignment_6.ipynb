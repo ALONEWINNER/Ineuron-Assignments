{
 "cells": [
  {
   "cell_type": "markdown",
   "id": "e793a797",
   "metadata": {},
   "source": [
    "# Ass:6\n",
    "1. Write a Python Program to Display Fibonacci Sequence Using Recursion?\n",
    "2. Write a Python Program to Find Factorial of Number Using Recursion?\n",
    "3. Write a Python Program to calculate your Body Mass Index?\n",
    "4. Write a Python Program to calculate the natural logarithm of any number?\n",
    "5. Write a Python Program for cube sum of first n natural numbers?\n"
   ]
  },
  {
   "cell_type": "code",
   "execution_count": 5,
   "id": "432d04a3",
   "metadata": {},
   "outputs": [
    {
     "name": "stdout",
     "output_type": "stream",
     "text": [
      "enter the no6\n",
      "fabonacii no 8\n"
     ]
    }
   ],
   "source": [
    "#1.Write a Python Program to Display Fibonacci Sequence Using Recursion?\n",
    "\n",
    "def fabo(n):\n",
    "    if n<=1:\n",
    "        return n\n",
    "    else:\n",
    "        return fabo(n-1)+fabo(n-2)\n",
    "    \n",
    "n= int(input(\"enter the no\"))    \n",
    "print(\"fabonacii no\",fabo(n))"
   ]
  },
  {
   "cell_type": "code",
   "execution_count": 1,
   "id": "31b9a339",
   "metadata": {},
   "outputs": [
    {
     "name": "stdout",
     "output_type": "stream",
     "text": [
      "enter the no12\n",
      "factorial of no 479001600\n"
     ]
    }
   ],
   "source": [
    "#2 Write a Python Program to Find Factorial of Number Using Recursion?\n",
    "def fact(n):\n",
    "    if n<=1:\n",
    "        return 1\n",
    "    else:\n",
    "        return n*fact(n-1)\n",
    "n= int(input(\"enter the no\"))    \n",
    "print(\"factorial of no\",fact(n))    "
   ]
  },
  {
   "cell_type": "code",
   "execution_count": 3,
   "id": "3f3c1163",
   "metadata": {},
   "outputs": [
    {
     "name": "stdout",
     "output_type": "stream",
     "text": [
      "enter  weight(kg)52\n",
      "enter height(cm)170\n",
      "UNDER WEIGHT\n"
     ]
    }
   ],
   "source": [
    "#3.Write a Python Program to calculate your Body Mass Index?\n",
    "w=int(input(\"enter  weight(kg)\"))\n",
    "h=int(input(\"enter height(cm)\"))\n",
    "h1=(h**2)/10000\n",
    "bmi=w/h1\n",
    "\n",
    "if(bmi<=18.5):\n",
    "    print(\"UNDER WEIGHT\")\n",
    "elif(bmi>18.5 and bmi<=24.9):  \n",
    "    print(\"Normal\")\n",
    "elif(bmi>25 and bmi<=29.9):\n",
    "    print(\"overweight\")\n",
    "else:\n",
    "    print(\"marne wale ho\")\n",
    "\n",
    "        \n"
   ]
  },
  {
   "cell_type": "code",
   "execution_count": 5,
   "id": "2ab4b49c",
   "metadata": {},
   "outputs": [
    {
     "name": "stdout",
     "output_type": "stream",
     "text": [
      "enter the no10\n",
      "log of  no 2.302585092994046\n"
     ]
    }
   ],
   "source": [
    "# 4:Write a Python Program to calculate the natural logarithm of any number?\n",
    "import math\n",
    "n= int(input(\"enter the no\"))    \n",
    "print(\"log of  no\",math.log(n))"
   ]
  },
  {
   "cell_type": "code",
   "execution_count": 8,
   "id": "3fed53db",
   "metadata": {},
   "outputs": [
    {
     "name": "stdout",
     "output_type": "stream",
     "text": [
      "enter the value of n78\n",
      "9492561\n"
     ]
    }
   ],
   "source": [
    "#5. Write a Python Program for cube sum of first n natural numbers?\n",
    "n= int(input(\"enter the value of n\"))   \n",
    "sum=0\n",
    "for i in range(1,n+1):\n",
    "    sum+=(i**3)\n",
    "print(sum)    "
   ]
  },
  {
   "cell_type": "code",
   "execution_count": null,
   "id": "5a57320c",
   "metadata": {},
   "outputs": [],
   "source": []
  }
 ],
 "metadata": {
  "kernelspec": {
   "display_name": "Python 3",
   "language": "python",
   "name": "python3"
  },
  "language_info": {
   "codemirror_mode": {
    "name": "ipython",
    "version": 3
   },
   "file_extension": ".py",
   "mimetype": "text/x-python",
   "name": "python",
   "nbconvert_exporter": "python",
   "pygments_lexer": "ipython3",
   "version": "3.9.12"
  }
 },
 "nbformat": 4,
 "nbformat_minor": 5
}
