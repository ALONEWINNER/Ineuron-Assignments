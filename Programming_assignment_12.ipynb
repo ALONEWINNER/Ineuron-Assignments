{
 "cells": [
  {
   "cell_type": "markdown",
   "id": "c3f35171",
   "metadata": {},
   "source": [
    "# \n",
    "Ass:12\n",
    "1. Write a Python program to Extract Unique values dictionary values?\n",
    "2. Write a Python program to find the sum of all items in a dictionary?\n",
    "3. Write a Python program to Merging two Dictionaries?\n",
    "4. Write a Python program to convert key-values list to flat dictionary?\n",
    "5. Write a Python program to insertion at the beginning in OrderedDict?\n",
    "6. Write a Python program to check order of character in string using OrderedDict()?\n",
    "7. Write a Python program to sort Python Dictionaries by Key or Value?"
   ]
  },
  {
   "cell_type": "code",
   "execution_count": 47,
   "id": "7f40246f",
   "metadata": {},
   "outputs": [
    {
     "name": "stdout",
     "output_type": "stream",
     "text": [
      "[66, 99, 898, 77, 45, 87, 88, 89, 90]\n"
     ]
    }
   ],
   "source": [
    "#Write a Python program to Extract Unique values dictionary values?\n",
    "d={\"one\":[66,77,88,99],\n",
    "  \"two\":[898,89,99,90],\n",
    "  \"three\":[45,87,90,66,77]}\n",
    "l=[]\n",
    "l1=[]\n",
    "for i in d.values():\n",
    "    for j in i:\n",
    "        l.append(j)\n",
    "l1=list(set(l))\n",
    "print(l1)\n",
    "    "
   ]
  },
  {
   "cell_type": "code",
   "execution_count": 48,
   "id": "4ed66a22",
   "metadata": {},
   "outputs": [
    {
     "name": "stdout",
     "output_type": "stream",
     "text": [
      "1539\n"
     ]
    }
   ],
   "source": [
    "#Write a Python program to find the sum of all items in a dictionary?\n",
    "#items means :valaues\n",
    "d1={1:66,2: 99,3: 898,4: 77,5: 45,6: 87,7: 88,8: 89,9: 90}\n",
    "sum=0\n",
    "for i in d1.values():\n",
    "    sum+=i\n",
    "print(sum)    \n",
    "    "
   ]
  },
  {
   "cell_type": "code",
   "execution_count": 55,
   "id": "942eca7d",
   "metadata": {},
   "outputs": [
    {
     "data": {
      "text/plain": [
       "{11: 66,\n",
       " 12: 99,\n",
       " 13: 898,\n",
       " 14: 77,\n",
       " 15: 45,\n",
       " 16: 87,\n",
       " 17: 88,\n",
       " 18: 89,\n",
       " 19: 90,\n",
       " 1: 66,\n",
       " 2: 99,\n",
       " 3: 898,\n",
       " 4: 77,\n",
       " 5: 45,\n",
       " 6: 87,\n",
       " 7: 88,\n",
       " 8: 89,\n",
       " 9: 90}"
      ]
     },
     "execution_count": 55,
     "metadata": {},
     "output_type": "execute_result"
    }
   ],
   "source": [
    "#Write a Python program to Merging two Dictionaries?\n",
    "#mthod 1\n",
    "d2={11:66,12: 99,13: 898,14: 77,15: 45,16: 87,17: 88,18: 89,19: 90}\n",
    "for i in d1:\n",
    "    d2.update({i:d1[i]})\n",
    "d2    \n"
   ]
  },
  {
   "cell_type": "code",
   "execution_count": 56,
   "id": "8175cbb9",
   "metadata": {},
   "outputs": [
    {
     "name": "stdout",
     "output_type": "stream",
     "text": [
      "{'one': [66, 77, 88, 99], 'two': [898, 89, 99, 90], 'three': [45, 87, 90, 66, 77], 1: 66, 2: 99, 3: 898, 4: 77, 5: 45, 6: 87, 7: 88, 8: 89, 9: 90}\n"
     ]
    }
   ],
   "source": [
    "#method 2\n",
    "#Using the | Operator\n",
    "print(d|d1)"
   ]
  },
  {
   "cell_type": "code",
   "execution_count": 57,
   "id": "aa5e6658",
   "metadata": {},
   "outputs": [
    {
     "name": "stdout",
     "output_type": "stream",
     "text": [
      "{'one': [66, 77, 88, 99], 'two': [898, 89, 99, 90], 'three': [45, 87, 90, 66, 77], 1: 66, 2: 99, 3: 898, 4: 77, 5: 45, 6: 87, 7: 88, 8: 89, 9: 90}\n"
     ]
    }
   ],
   "source": [
    "#method3\n",
    "#using**\n",
    "print({**d,**d1})"
   ]
  },
  {
   "cell_type": "code",
   "execution_count": 59,
   "id": "a98d13a0",
   "metadata": {},
   "outputs": [
    {
     "name": "stdout",
     "output_type": "stream",
     "text": [
      "{'one': [66, 77, 88, 99], 'two': [898, 89, 99, 90], 'three': [45, 87, 90, 66, 77], 1: 66, 2: 99, 3: 898, 4: 77, 5: 45, 6: 87, 7: 88, 8: 89, 9: 90}\n"
     ]
    }
   ],
   "source": [
    "#method4\n",
    "#Using copy() and update()\n",
    "d3=d.copy()\n",
    "d3.update(d1)\n",
    "print(d3)"
   ]
  },
  {
   "cell_type": "code",
   "execution_count": 63,
   "id": "1dce2c87",
   "metadata": {},
   "outputs": [
    {
     "data": {
      "text/plain": [
       "{2, 3, 4, 33, 43, 45, 54, 434, 223223}"
      ]
     },
     "execution_count": 63,
     "metadata": {},
     "output_type": "execute_result"
    }
   ],
   "source": [
    "l={223223,434,54,54,45,4}\n",
    "l2={33,4,4,43,3,2,2,}\n",
    "l2.update(l)\n",
    "l2"
   ]
  },
  {
   "cell_type": "code",
   "execution_count": 71,
   "id": "f4320c5a",
   "metadata": {},
   "outputs": [
    {
     "name": "stdout",
     "output_type": "stream",
     "text": [
      "{1: 22, 2: 34, 3: 45, 4: 45}\n"
     ]
    }
   ],
   "source": [
    "#4 Write a Python program to convert key-values list to flat dictionary?\n",
    "l=[1,22,2,34,3,45,4,45]\n",
    "d={}\n",
    "for i in range(0,len(l),2):\n",
    "    d.update({l[i]:l[i+1]})\n",
    "print(d)    "
   ]
  },
  {
   "cell_type": "code",
   "execution_count": 69,
   "id": "a15fac4f",
   "metadata": {},
   "outputs": [
    {
     "name": "stdout",
     "output_type": "stream",
     "text": [
      "The original dictionary is : {'month': [1, 2, 3], 'name': ['Jan', 'Feb', 'March']}\n",
      "flatten dict {1: 'Jan', 2: 'Feb', 3: 'March'}\n"
     ]
    }
   ],
   "source": [
    "# Using dict() + zip()\n",
    "test_dict = {'month' : [1, 2, 3],'name' : ['Jan', 'Feb', 'March']}\n",
    "print(\"The original dictionary is : \" + str(test_dict))\n",
    "print(\"flatten dict\",dict(zip(test_dict['month'], test_dict['name'])))\n",
    "\n"
   ]
  },
  {
   "cell_type": "code",
   "execution_count": 67,
   "id": "72cda9d5",
   "metadata": {},
   "outputs": [
    {
     "name": "stdout",
     "output_type": "stream",
     "text": [
      "{1: 'Monday', 2: 'Tuesday', 3: ' Wednesday', 4: 'Thursday', 5: 'Friday', 6: 'Saturday', 7: 'Sunday'}\n"
     ]
    }
   ],
   "source": [
    "td={'day':[1,2,3,4,5,6,7],'name':['Monday','Tuesday',' Wednesday','Thursday','Friday','Saturday','Sunday' ]}\n",
    "print(dict(zip(td['day'],td['name'])))"
   ]
  },
  {
   "cell_type": "code",
   "execution_count": 73,
   "id": "4c86c359",
   "metadata": {},
   "outputs": [
    {
     "name": "stdout",
     "output_type": "stream",
     "text": [
      "OrderedDict([('akshat', '1'), ('nikhil', '2')])\n",
      "Resultant Dictionary : OrderedDict([('manjeet', '3'), ('akshat', '1'), ('nikhil', '2')])\n"
     ]
    }
   ],
   "source": [
    "#5 Write a Python program to insertion at the beginning in OrderedDict?\n",
    "from collections import OrderedDict\n",
    "\n",
    "i_d = OrderedDict([('akshat', '1'), ('nikhil', '2')])\n",
    "print(i_d)\n",
    "i_d.update({'manjeet':'3'})\n",
    "i_d.move_to_end('manjeet', last = False)\n",
    " \n",
    "# print result\n",
    "print (\"Resultant Dictionary : \"+str(i_d))"
   ]
  },
  {
   "cell_type": "code",
   "execution_count": null,
   "id": "d9efb47e",
   "metadata": {},
   "outputs": [],
   "source": []
  }
 ],
 "metadata": {
  "kernelspec": {
   "display_name": "Python 3",
   "language": "python",
   "name": "python3"
  },
  "language_info": {
   "codemirror_mode": {
    "name": "ipython",
    "version": 3
   },
   "file_extension": ".py",
   "mimetype": "text/x-python",
   "name": "python",
   "nbconvert_exporter": "python",
   "pygments_lexer": "ipython3",
   "version": "3.9.12"
  }
 },
 "nbformat": 4,
 "nbformat_minor": 5
}
