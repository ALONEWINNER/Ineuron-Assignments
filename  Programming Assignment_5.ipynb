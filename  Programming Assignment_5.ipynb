{
 "cells": [
  {
   "cell_type": "markdown",
   "id": "eb1a3c4d",
   "metadata": {},
   "source": [
    "# Ass:5\n",
    "1. Write a Python Program to Find LCM?\n",
    "2. Write a Python Program to Find HCF?\n",
    "3. Write a Python Program to Convert Decimal to Binary, Octal and Hexadecimal?\n",
    "4. Write a Python Program To Find ASCII value of a character?\n",
    "5. Write a Python Program to Make a Simple Calculator with 4 basic mathematical operations?\n"
   ]
  },
  {
   "cell_type": "code",
   "execution_count": 13,
   "id": "cca60fd3",
   "metadata": {},
   "outputs": [
    {
     "name": "stdout",
     "output_type": "stream",
     "text": [
      "48\n",
      "12\n",
      "lcm of  48 12 is: 48\n"
     ]
    }
   ],
   "source": [
    "#1. Write a Python Program to Find LCM?\n",
    "def lcm(a,b):\n",
    "    if a>b:\n",
    "        g=a\n",
    "    else:\n",
    "        g=b\n",
    "    while(True):\n",
    "        if(g%a==0 and g%b==0):\n",
    "            l=g\n",
    "            break\n",
    "        else:\n",
    "            g=g+1\n",
    "    return l        \n",
    "a=int(input())\n",
    "b=int(input())\n",
    "print(\"lcm of \",a,b, \"is:\",lcm(a,b))    "
   ]
  },
  {
   "cell_type": "code",
   "execution_count": 19,
   "id": "a921565b",
   "metadata": {},
   "outputs": [
    {
     "name": "stdout",
     "output_type": "stream",
     "text": [
      "25\n",
      "150\n",
      "gcd of  25 150 is: 25.0\n"
     ]
    }
   ],
   "source": [
    "#2:Write a Python Program to Find HCF?\n",
    "def gcd(a,b,l1):\n",
    "    gc=(a*b)/l1\n",
    "    return gc\n",
    "\n",
    "a=int(input())\n",
    "b=int(input())\n",
    "l1=lcm(a,b)\n",
    "print(\"gcd of \",a,b, \"is:\",gcd(a,b,l1))  "
   ]
  },
  {
   "cell_type": "code",
   "execution_count": 21,
   "id": "5cd1fe31",
   "metadata": {},
   "outputs": [
    {
     "name": "stdout",
     "output_type": "stream",
     "text": [
      "enter no in dec15\n",
      "binary: 0b1111 octal: 0o17 hexadecimal: 0xf\n"
     ]
    }
   ],
   "source": [
    "#3 . Write a Python Program to Convert Decimal to Binary, Octal and Hexadecimal?\n",
    "n=int(input(\"enter no in dec\"))\n",
    "print(\"binary:\",bin(n),\"octal:\",oct(n),\"hexadecimal:\",hex(n))\n",
    "\n"
   ]
  },
  {
   "cell_type": "code",
   "execution_count": 29,
   "id": "6b7a383e",
   "metadata": {},
   "outputs": [
    {
     "name": "stdout",
     "output_type": "stream",
     "text": [
      "enter char:G\n",
      "71\n"
     ]
    }
   ],
   "source": [
    "#4.Write a Python Program To Find ASCII value of a character?\n",
    "c=input(\"enter char:\")\n",
    "print(ord(c))\n"
   ]
  },
  {
   "cell_type": "code",
   "execution_count": 34,
   "id": "489ef47d",
   "metadata": {},
   "outputs": [
    {
     "name": "stdout",
     "output_type": "stream",
     "text": [
      "1: sum,2: sub: sub,3:mul,4:div\n",
      "3\n",
      "enter n1,n2\n",
      "4\n",
      "7\n",
      "28\n",
      "do you want to continue?(Y/N)y\n",
      "1: sum,2: sub: sub,3:mul,4:div\n",
      "4\n",
      "enter n1,n2\n",
      "50\n",
      "10\n",
      "5.0\n",
      "do you want to continue?(Y/N)n\n"
     ]
    }
   ],
   "source": [
    "#5: Write a Python Program to Make a Simple Calculator with 4 basic mathematical operations?\n",
    "def add(a,b):\n",
    "    return (a+b)\n",
    "def sub(a,b):\n",
    "    return(abs(a-b))\n",
    "def mul(a,b):\n",
    "    return (a*b)\n",
    "def div(a,b):\n",
    "    return a/b\n",
    "ch='y'\n",
    "#print(\"1: sum,2: sub: sub,3:mul,4:div\")\n",
    "while(ch=='y'):\n",
    "    print(\"1: sum,2: sub: sub,3:mul,4:div\")\n",
    "    n=int(input())\n",
    "    print(\"enter n1,n2\")\n",
    "    n1=int(input())\n",
    "    n2=int(input())\n",
    "    if(n==1):\n",
    "        print(add(n1,n2))\n",
    "    elif(n==2):\n",
    "        print(sub(n1,n2))\n",
    "    elif(n==3):\n",
    "        print(mul(n1,n2))\n",
    "    elif(n==4):\n",
    "        print(div(n1,n2))\n",
    "\n",
    "    else:\n",
    "        print(\"wrong choice\")   \n",
    "    c=input(\"do you want to continue?(Y/N)\")\n",
    "    if(c=='y'):\n",
    "        ch='y'\n",
    "    else:\n",
    "        break;\n",
    "        \n",
    "    \n",
    "\n",
    "                \n",
    "    "
   ]
  },
  {
   "cell_type": "code",
   "execution_count": null,
   "id": "e04e13f4",
   "metadata": {},
   "outputs": [],
   "source": []
  }
 ],
 "metadata": {
  "kernelspec": {
   "display_name": "Python 3",
   "language": "python",
   "name": "python3"
  },
  "language_info": {
   "codemirror_mode": {
    "name": "ipython",
    "version": 3
   },
   "file_extension": ".py",
   "mimetype": "text/x-python",
   "name": "python",
   "nbconvert_exporter": "python",
   "pygments_lexer": "ipython3",
   "version": "3.9.12"
  }
 },
 "nbformat": 4,
 "nbformat_minor": 5
}
